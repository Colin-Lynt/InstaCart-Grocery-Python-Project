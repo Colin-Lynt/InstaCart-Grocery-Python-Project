{
 "cells": [
  {
   "cell_type": "markdown",
   "id": "c0060ba9",
   "metadata": {},
   "source": [
    "# Importing Libraries"
   ]
  },
  {
   "cell_type": "code",
   "execution_count": 2,
   "id": "e6326905",
   "metadata": {},
   "outputs": [],
   "source": [
    "# Import libraries\n",
    "import pandas as pd\n",
    "import numpy as np\n",
    "import os"
   ]
  },
  {
   "cell_type": "markdown",
   "id": "2b2a315e",
   "metadata": {},
   "source": [
    "# Working with Python data types"
   ]
  },
  {
   "cell_type": "markdown",
   "id": "a575743e",
   "metadata": {},
   "source": [
    "#### Question 7. Code 3 diffrent ways of reaching a result of 100 by adding or subtracting numeric variables."
   ]
  },
  {
   "cell_type": "code",
   "execution_count": 26,
   "id": "1bf423ad",
   "metadata": {},
   "outputs": [],
   "source": [
    "x = 50"
   ]
  },
  {
   "cell_type": "code",
   "execution_count": 12,
   "id": "d66d10b0",
   "metadata": {},
   "outputs": [],
   "source": [
    "y = 50"
   ]
  },
  {
   "cell_type": "code",
   "execution_count": 13,
   "id": "ccf35e9a",
   "metadata": {
    "scrolled": true
   },
   "outputs": [
    {
     "data": {
      "text/plain": [
       "100"
      ]
     },
     "execution_count": 13,
     "metadata": {},
     "output_type": "execute_result"
    }
   ],
   "source": [
    "x + y"
   ]
  },
  {
   "cell_type": "code",
   "execution_count": 14,
   "id": "31aeb267",
   "metadata": {},
   "outputs": [],
   "source": [
    "a = 100"
   ]
  },
  {
   "cell_type": "code",
   "execution_count": 15,
   "id": "5d678c14",
   "metadata": {},
   "outputs": [],
   "source": [
    "b = 0"
   ]
  },
  {
   "cell_type": "code",
   "execution_count": 16,
   "id": "139acc00",
   "metadata": {},
   "outputs": [
    {
     "data": {
      "text/plain": [
       "100"
      ]
     },
     "execution_count": 16,
     "metadata": {},
     "output_type": "execute_result"
    }
   ],
   "source": [
    "a - b"
   ]
  },
  {
   "cell_type": "code",
   "execution_count": 17,
   "id": "91de1378",
   "metadata": {},
   "outputs": [
    {
     "data": {
      "text/plain": [
       "100"
      ]
     },
     "execution_count": 17,
     "metadata": {},
     "output_type": "execute_result"
    }
   ],
   "source": [
    "(a + x) - y"
   ]
  },
  {
   "cell_type": "markdown",
   "id": "17d67de7",
   "metadata": {},
   "source": [
    "#### Question 8. Code 2 floating-point variables and divide them by each other."
   ]
  },
  {
   "cell_type": "code",
   "execution_count": 18,
   "id": "beb37644",
   "metadata": {},
   "outputs": [],
   "source": [
    "c = 5.89"
   ]
  },
  {
   "cell_type": "code",
   "execution_count": 19,
   "id": "1f939ab2",
   "metadata": {},
   "outputs": [],
   "source": [
    "d = 27.64"
   ]
  },
  {
   "cell_type": "code",
   "execution_count": 22,
   "id": "6565919d",
   "metadata": {},
   "outputs": [
    {
     "data": {
      "text/plain": [
       "4.6926994906621395"
      ]
     },
     "execution_count": 22,
     "metadata": {},
     "output_type": "execute_result"
    }
   ],
   "source": [
    "d/c"
   ]
  },
  {
   "cell_type": "markdown",
   "id": "abd33702",
   "metadata": {},
   "source": [
    "#### Question 9. Construct a short word made of seperate strings."
   ]
  },
  {
   "cell_type": "code",
   "execution_count": 23,
   "id": "f947fb46",
   "metadata": {},
   "outputs": [],
   "source": [
    "e = 'Com'"
   ]
  },
  {
   "cell_type": "code",
   "execution_count": 24,
   "id": "4cf93f38",
   "metadata": {},
   "outputs": [],
   "source": [
    "f = 'plete'"
   ]
  },
  {
   "cell_type": "code",
   "execution_count": 25,
   "id": "83c2c14a",
   "metadata": {},
   "outputs": [
    {
     "data": {
      "text/plain": [
       "'Complete'"
      ]
     },
     "execution_count": 25,
     "metadata": {},
     "output_type": "execute_result"
    }
   ],
   "source": [
    "e + f"
   ]
  },
  {
   "cell_type": "markdown",
   "id": "2868a025",
   "metadata": {},
   "source": [
    "#### Question 10. Construct 2 short sentences made of seperate strings."
   ]
  },
  {
   "cell_type": "code",
   "execution_count": 33,
   "id": "36fcc8b0",
   "metadata": {},
   "outputs": [],
   "source": [
    "g = 'Hi, I dont want to bother you. '"
   ]
  },
  {
   "cell_type": "code",
   "execution_count": 34,
   "id": "c27b83b2",
   "metadata": {},
   "outputs": [],
   "source": [
    "h = 'However, could you tell me what time it is?'"
   ]
  },
  {
   "cell_type": "code",
   "execution_count": 35,
   "id": "ad2e7819",
   "metadata": {},
   "outputs": [
    {
     "data": {
      "text/plain": [
       "'Hi, I dont want to bother you. However, could you tell me what time it is?'"
      ]
     },
     "execution_count": 35,
     "metadata": {},
     "output_type": "execute_result"
    }
   ],
   "source": [
    "g + h"
   ]
  },
  {
   "cell_type": "markdown",
   "id": "8815cb48",
   "metadata": {},
   "source": [
    "#### Bonus Question. At the bottom of your file, include a command that makes a string appear 100 times."
   ]
  },
  {
   "cell_type": "code",
   "execution_count": 36,
   "id": "b9b99c88",
   "metadata": {},
   "outputs": [],
   "source": [
    "i = 'String'"
   ]
  },
  {
   "cell_type": "code",
   "execution_count": 37,
   "id": "e864b8f4",
   "metadata": {},
   "outputs": [
    {
     "data": {
      "text/plain": [
       "'StringStringStringStringStringStringStringStringStringStringStringStringStringStringStringStringStringStringStringStringStringStringStringStringStringStringStringStringStringStringStringStringStringStringStringStringStringStringStringStringStringStringStringStringStringStringStringStringStringStringStringStringStringStringStringStringStringStringStringStringStringStringStringStringStringStringStringStringStringStringStringStringStringStringStringStringStringStringStringStringStringStringStringStringStringStringStringStringStringStringStringStringStringStringStringStringStringStringStringString'"
      ]
     },
     "execution_count": 37,
     "metadata": {},
     "output_type": "execute_result"
    }
   ],
   "source": [
    "i * 100"
   ]
  },
  {
   "cell_type": "code",
   "execution_count": null,
   "id": "f2e25b81",
   "metadata": {},
   "outputs": [],
   "source": []
  }
 ],
 "metadata": {
  "kernelspec": {
   "display_name": "Python 3",
   "language": "python",
   "name": "python3"
  },
  "language_info": {
   "codemirror_mode": {
    "name": "ipython",
    "version": 3
   },
   "file_extension": ".py",
   "mimetype": "text/x-python",
   "name": "python",
   "nbconvert_exporter": "python",
   "pygments_lexer": "ipython3",
   "version": "3.8.8"
  }
 },
 "nbformat": 4,
 "nbformat_minor": 5
}
