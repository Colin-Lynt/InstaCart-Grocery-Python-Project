{
 "cells": [
  {
   "cell_type": "markdown",
   "id": "d649dbdc",
   "metadata": {},
   "source": [
    "# Task 4.10 Coding Etiquette & Excel Reporting"
   ]
  },
  {
   "cell_type": "markdown",
   "id": "fd47543d",
   "metadata": {},
   "source": [
    "# Instacart Basket Analysis \n",
    "\n",
    "#### Table of Contents \n",
    "\n",
    "1. Importing Data\n",
    "2. PII data\n",
    "3. Regional Data (For-Loop)\n",
    "4. Identifying and excluding low-activity customers\n",
    "5. Customer profiling\n",
    "- 5.1 Age\n",
    "- 5.2 Income\n",
    "- 5.3 Family Status\n",
    "- 5.4 Parental Status \n",
    "- 5.5 Certain Goods\n",
    "- 5.6 Day Ordered\n",
    "- 5.7 Comparison\n",
    "6. Visualizations \n",
    "7. Aggregating variables \n",
    "8. Comparing customer data: regions|departments \n",
    "- 8.1 Loyality status \n",
    "- 8.2 Region and Ordering Habits\n",
    "- 8.3 Parental status \n",
    "- 8.4 Age\n",
    "- 8.5 Marital status\n",
    "- 8.6 Income"
   ]
  },
  {
   "cell_type": "markdown",
   "id": "0527a407",
   "metadata": {},
   "source": [
    "### Question 1. Import the data set you exported in Exercise 4.9 into a new Jupyter notebook. This should be the merged version of your data that contains the new customers column."
   ]
  },
  {
   "cell_type": "code",
   "execution_count": 1,
   "id": "f097d9be",
   "metadata": {},
   "outputs": [],
   "source": [
    "# Importing Libraries\n",
    "import pandas as pd\n",
    "import numpy as np\n",
    "import os\n",
    "import matplotlib.pyplot as plt\n",
    "import seaborn as sns\n",
    "import scipy"
   ]
  },
  {
   "cell_type": "code",
   "execution_count": 2,
   "id": "f64e3810",
   "metadata": {},
   "outputs": [],
   "source": [
    "# Creating path\n",
    "path = r'/Users/ColinLynt/11-2021 Instacart Basket Analysis'"
   ]
  },
  {
   "cell_type": "code",
   "execution_count": 3,
   "id": "fb3b9cfc",
   "metadata": {},
   "outputs": [],
   "source": [
    "# Importing sb_merge\n",
    "db_merge = pd.read_pickle(os.path.join(path, '02 Data', 'Prepared Data', 'db_merge.pkl'))"
   ]
  },
  {
   "cell_type": "code",
   "execution_count": 162,
   "id": "18c0bf81",
   "metadata": {},
   "outputs": [],
   "source": [
    "# Importing df_price_range\n",
    "df_price_range = pd.read_pickle(os.path.join(path, '02 Data', 'Prepared Data', 'orders_products_revised.pkl'))"
   ]
  },
  {
   "cell_type": "code",
   "execution_count": 4,
   "id": "30491896",
   "metadata": {
    "scrolled": true
   },
   "outputs": [
    {
     "data": {
      "text/html": [
       "<div>\n",
       "<style scoped>\n",
       "    .dataframe tbody tr th:only-of-type {\n",
       "        vertical-align: middle;\n",
       "    }\n",
       "\n",
       "    .dataframe tbody tr th {\n",
       "        vertical-align: top;\n",
       "    }\n",
       "\n",
       "    .dataframe thead th {\n",
       "        text-align: right;\n",
       "    }\n",
       "</style>\n",
       "<table border=\"1\" class=\"dataframe\">\n",
       "  <thead>\n",
       "    <tr style=\"text-align: right;\">\n",
       "      <th></th>\n",
       "      <th>order_id</th>\n",
       "      <th>user_id</th>\n",
       "      <th>order_number</th>\n",
       "      <th>order_day_of_week</th>\n",
       "      <th>order_hour_of_day</th>\n",
       "      <th>days_since_prior_order</th>\n",
       "      <th>product_id</th>\n",
       "      <th>add_to_cart_order</th>\n",
       "      <th>reordered</th>\n",
       "      <th>product_name</th>\n",
       "      <th>...</th>\n",
       "      <th>frequency_flag</th>\n",
       "      <th>Last Name</th>\n",
       "      <th>Gender</th>\n",
       "      <th>State</th>\n",
       "      <th>Age</th>\n",
       "      <th>Date Joined</th>\n",
       "      <th>n_dependants</th>\n",
       "      <th>Marital Status</th>\n",
       "      <th>Income</th>\n",
       "      <th>_merge</th>\n",
       "    </tr>\n",
       "  </thead>\n",
       "  <tbody>\n",
       "    <tr>\n",
       "      <th>0</th>\n",
       "      <td>2539329</td>\n",
       "      <td>1</td>\n",
       "      <td>1</td>\n",
       "      <td>2</td>\n",
       "      <td>8</td>\n",
       "      <td>NaN</td>\n",
       "      <td>196</td>\n",
       "      <td>1</td>\n",
       "      <td>0</td>\n",
       "      <td>Soda</td>\n",
       "      <td>...</td>\n",
       "      <td>Non-frequent customer</td>\n",
       "      <td>Nguyen</td>\n",
       "      <td>Female</td>\n",
       "      <td>Alabama</td>\n",
       "      <td>31</td>\n",
       "      <td>2/17/2019</td>\n",
       "      <td>3</td>\n",
       "      <td>married</td>\n",
       "      <td>40423</td>\n",
       "      <td>both</td>\n",
       "    </tr>\n",
       "    <tr>\n",
       "      <th>1</th>\n",
       "      <td>2539329</td>\n",
       "      <td>1</td>\n",
       "      <td>1</td>\n",
       "      <td>2</td>\n",
       "      <td>8</td>\n",
       "      <td>NaN</td>\n",
       "      <td>14084</td>\n",
       "      <td>2</td>\n",
       "      <td>0</td>\n",
       "      <td>Organic Unsweetened Vanilla Almond Milk</td>\n",
       "      <td>...</td>\n",
       "      <td>Non-frequent customer</td>\n",
       "      <td>Nguyen</td>\n",
       "      <td>Female</td>\n",
       "      <td>Alabama</td>\n",
       "      <td>31</td>\n",
       "      <td>2/17/2019</td>\n",
       "      <td>3</td>\n",
       "      <td>married</td>\n",
       "      <td>40423</td>\n",
       "      <td>both</td>\n",
       "    </tr>\n",
       "    <tr>\n",
       "      <th>2</th>\n",
       "      <td>2539329</td>\n",
       "      <td>1</td>\n",
       "      <td>1</td>\n",
       "      <td>2</td>\n",
       "      <td>8</td>\n",
       "      <td>NaN</td>\n",
       "      <td>12427</td>\n",
       "      <td>3</td>\n",
       "      <td>0</td>\n",
       "      <td>Original Beef Jerky</td>\n",
       "      <td>...</td>\n",
       "      <td>Non-frequent customer</td>\n",
       "      <td>Nguyen</td>\n",
       "      <td>Female</td>\n",
       "      <td>Alabama</td>\n",
       "      <td>31</td>\n",
       "      <td>2/17/2019</td>\n",
       "      <td>3</td>\n",
       "      <td>married</td>\n",
       "      <td>40423</td>\n",
       "      <td>both</td>\n",
       "    </tr>\n",
       "    <tr>\n",
       "      <th>3</th>\n",
       "      <td>2539329</td>\n",
       "      <td>1</td>\n",
       "      <td>1</td>\n",
       "      <td>2</td>\n",
       "      <td>8</td>\n",
       "      <td>NaN</td>\n",
       "      <td>26088</td>\n",
       "      <td>4</td>\n",
       "      <td>0</td>\n",
       "      <td>Aged White Cheddar Popcorn</td>\n",
       "      <td>...</td>\n",
       "      <td>Non-frequent customer</td>\n",
       "      <td>Nguyen</td>\n",
       "      <td>Female</td>\n",
       "      <td>Alabama</td>\n",
       "      <td>31</td>\n",
       "      <td>2/17/2019</td>\n",
       "      <td>3</td>\n",
       "      <td>married</td>\n",
       "      <td>40423</td>\n",
       "      <td>both</td>\n",
       "    </tr>\n",
       "    <tr>\n",
       "      <th>4</th>\n",
       "      <td>2539329</td>\n",
       "      <td>1</td>\n",
       "      <td>1</td>\n",
       "      <td>2</td>\n",
       "      <td>8</td>\n",
       "      <td>NaN</td>\n",
       "      <td>26405</td>\n",
       "      <td>5</td>\n",
       "      <td>0</td>\n",
       "      <td>XL Pick-A-Size Paper Towel Rolls</td>\n",
       "      <td>...</td>\n",
       "      <td>Non-frequent customer</td>\n",
       "      <td>Nguyen</td>\n",
       "      <td>Female</td>\n",
       "      <td>Alabama</td>\n",
       "      <td>31</td>\n",
       "      <td>2/17/2019</td>\n",
       "      <td>3</td>\n",
       "      <td>married</td>\n",
       "      <td>40423</td>\n",
       "      <td>both</td>\n",
       "    </tr>\n",
       "  </tbody>\n",
       "</table>\n",
       "<p>5 rows × 28 columns</p>\n",
       "</div>"
      ],
      "text/plain": [
       "   order_id  user_id  order_number  order_day_of_week  order_hour_of_day  \\\n",
       "0   2539329        1             1                  2                  8   \n",
       "1   2539329        1             1                  2                  8   \n",
       "2   2539329        1             1                  2                  8   \n",
       "3   2539329        1             1                  2                  8   \n",
       "4   2539329        1             1                  2                  8   \n",
       "\n",
       "   days_since_prior_order  product_id  add_to_cart_order  reordered  \\\n",
       "0                     NaN         196                  1          0   \n",
       "1                     NaN       14084                  2          0   \n",
       "2                     NaN       12427                  3          0   \n",
       "3                     NaN       26088                  4          0   \n",
       "4                     NaN       26405                  5          0   \n",
       "\n",
       "                              product_name  ...         frequency_flag  \\\n",
       "0                                     Soda  ...  Non-frequent customer   \n",
       "1  Organic Unsweetened Vanilla Almond Milk  ...  Non-frequent customer   \n",
       "2                      Original Beef Jerky  ...  Non-frequent customer   \n",
       "3               Aged White Cheddar Popcorn  ...  Non-frequent customer   \n",
       "4         XL Pick-A-Size Paper Towel Rolls  ...  Non-frequent customer   \n",
       "\n",
       "   Last Name  Gender    State Age  Date Joined n_dependants  Marital Status  \\\n",
       "0     Nguyen  Female  Alabama  31    2/17/2019            3         married   \n",
       "1     Nguyen  Female  Alabama  31    2/17/2019            3         married   \n",
       "2     Nguyen  Female  Alabama  31    2/17/2019            3         married   \n",
       "3     Nguyen  Female  Alabama  31    2/17/2019            3         married   \n",
       "4     Nguyen  Female  Alabama  31    2/17/2019            3         married   \n",
       "\n",
       "  Income _merge  \n",
       "0  40423   both  \n",
       "1  40423   both  \n",
       "2  40423   both  \n",
       "3  40423   both  \n",
       "4  40423   both  \n",
       "\n",
       "[5 rows x 28 columns]"
      ]
     },
     "execution_count": 4,
     "metadata": {},
     "output_type": "execute_result"
    }
   ],
   "source": [
    "# Checking the names of db_merge\n",
    "db_merge.head(5)"
   ]
  },
  {
   "cell_type": "code",
   "execution_count": 5,
   "id": "32ae9d72",
   "metadata": {},
   "outputs": [
    {
     "data": {
      "text/plain": [
       "(32436241, 28)"
      ]
     },
     "execution_count": 5,
     "metadata": {},
     "output_type": "execute_result"
    }
   ],
   "source": [
    "# Checking the shape of the data\n",
    "db_merge.shape"
   ]
  },
  {
   "cell_type": "code",
   "execution_count": 6,
   "id": "9f4f6ad4",
   "metadata": {},
   "outputs": [
    {
     "data": {
      "text/plain": [
       "order_id                     int64\n",
       "user_id                      int64\n",
       "order_number                 int64\n",
       "order_day_of_week            int64\n",
       "order_hour_of_day            int64\n",
       "days_since_prior_order     float64\n",
       "product_id                   int64\n",
       "add_to_cart_order            int64\n",
       "reordered                    int64\n",
       "product_name                object\n",
       "aisle_id                   float64\n",
       "department_id              float64\n",
       "prices                     float64\n",
       "max_order                    int64\n",
       "loyalty_flag                object\n",
       "spending                   float64\n",
       "spending_flag               object\n",
       "frequency                  float64\n",
       "frequency_flag              object\n",
       "Last Name                   object\n",
       "Gender                      object\n",
       "State                       object\n",
       "Age                          int64\n",
       "Date Joined                 object\n",
       "n_dependants                 int64\n",
       "Marital Status              object\n",
       "Income                       int64\n",
       "_merge                    category\n",
       "dtype: object"
      ]
     },
     "execution_count": 6,
     "metadata": {},
     "output_type": "execute_result"
    }
   ],
   "source": [
    "# Checking the data types of each column\n",
    "db_merge.dtypes"
   ]
  },
  {
   "cell_type": "markdown",
   "id": "0046a69d",
   "metadata": {},
   "source": [
    "### Question 2. Consider any security implications that might exist for this new data. You’ll need to address any PII data in the data before continuing your analysis."
   ]
  },
  {
   "cell_type": "markdown",
   "id": "3876ff63",
   "metadata": {},
   "source": [
    "#### ANSWER: All data pertaining to sensitive personal information would be considered PII. The Instacart data has data like Last Name, Gender, State, Number of Independents, Marital Status, and Income that make it PII. This data should have proper security protocols to ensure it isn't retrieved by anyone outside of the company."
   ]
  },
  {
   "cell_type": "markdown",
   "id": "2213bad4",
   "metadata": {},
   "source": [
    "### Question 3. The Instacart officers are interested in comparing customer behavior in different geographic areas. Create a regional segmentation of the data. You’ll need to create a “Region” column based on the “State” column from your customers data set.\n",
    "#### Use the region information in this Wikipedia article to create your column (you only need to create regions, not divisions).\n",
    "#### Determine whether there’s a difference in spending habits between the different U.S. regions. (Hint: You can do this by crossing the variable you just created with the spending flag.)"
   ]
  },
  {
   "cell_type": "code",
   "execution_count": 7,
   "id": "41d27673",
   "metadata": {},
   "outputs": [],
   "source": [
    "# Creating a column that divides states up into regions\n",
    "region = []\n",
    "\n",
    "for State in db_merge[\"State\"]:\n",
    "    if (State == 'Maine') or (State == 'New Hampshire') or (State == 'Vermont') or (State == 'Massachusetts') or (State == 'Rhode Island') or (State == 'Connecticut') or (State == 'New York') or (State == 'Pennsylvania') or (State == 'New Jersey'):\n",
    "        region.append (\"Northeast\")\n",
    "    elif (State == 'Wisconsin') or (State == 'Michigan') or (State == 'Illinois') or (State == 'Indiana') or (State == 'Ohio') or (State == 'North Dakota') or (State == 'South Dakota') or (State == 'Nebraska') or (State == 'Kansas') or (State == 'Minnesota') or (State == 'Iowa') or (State == 'Missouri'):\n",
    "        region.append (\"Midwest\")\n",
    "    elif (State == 'Delaware') or (State == 'Maryland') or (State == 'District of Columbia') or (State == 'Virginia') or (State == 'West Virginia') or (State == 'North Carolina') or (State == 'South Carolina') or (State == 'Georgia') or (State == 'Florida') or (State == 'Kentucky') or (State == 'Tennessee') or (State == 'Mississippi') or (State == 'Alabama') or (State == 'Oklahoma') or (State == 'Texas') or (State == 'Arkansas') or (State == 'Louisiana'):\n",
    "        region.append (\"South\")\n",
    "    elif (State == 'Idaho') or (State == 'Montana') or (State == 'Wyoming') or (State == 'Nevada') or (State == 'Utah') or (State == 'Colorado') or (State == 'Arizona') or (State == 'New Mexico') or (State == 'Alaska') or (State == 'Washington') or (State == 'Oregon') or (State == 'California') or (State == 'Hawaii'):\n",
    "        region.append (\"West\")\n"
   ]
  },
  {
   "cell_type": "code",
   "execution_count": 8,
   "id": "c6fccefe",
   "metadata": {},
   "outputs": [],
   "source": [
    "# Create region column\n",
    "db_merge['region'] = region"
   ]
  },
  {
   "cell_type": "code",
   "execution_count": 9,
   "id": "a2bbc829",
   "metadata": {},
   "outputs": [
    {
     "data": {
      "text/plain": [
       "South        10802397\n",
       "West          8300921\n",
       "Midwest       7604276\n",
       "Northeast     5728647\n",
       "Name: region, dtype: int64"
      ]
     },
     "execution_count": 9,
     "metadata": {},
     "output_type": "execute_result"
    }
   ],
   "source": [
    "# Checking value counts of the region column\n",
    "db_merge['region'].value_counts()"
   ]
  },
  {
   "cell_type": "code",
   "execution_count": 10,
   "id": "0b06a2fe",
   "metadata": {},
   "outputs": [
    {
     "data": {
      "text/plain": [
       "32436241"
      ]
     },
     "execution_count": 10,
     "metadata": {},
     "output_type": "execute_result"
    }
   ],
   "source": [
    "# Checking to make sure there are no missing values in the regions column\n",
    "10802397+8300921+7604276+5728647"
   ]
  },
  {
   "cell_type": "code",
   "execution_count": 11,
   "id": "4b643394",
   "metadata": {},
   "outputs": [
    {
     "data": {
      "text/plain": [
       "32436241"
      ]
     },
     "execution_count": 11,
     "metadata": {},
     "output_type": "execute_result"
    }
   ],
   "source": [
    "# Checking the region column against the state column\n",
    "len(db_merge['State'])"
   ]
  },
  {
   "cell_type": "code",
   "execution_count": 12,
   "id": "a351fdcf",
   "metadata": {},
   "outputs": [],
   "source": [
    "# Creating crosstab of spending habits of different US regions\n",
    "crosstab = pd.crosstab(db_merge['region'], db_merge['spending_flag'], dropna = False)"
   ]
  },
  {
   "cell_type": "code",
   "execution_count": 13,
   "id": "eb848b07",
   "metadata": {},
   "outputs": [
    {
     "data": {
      "text/html": [
       "<div>\n",
       "<style scoped>\n",
       "    .dataframe tbody tr th:only-of-type {\n",
       "        vertical-align: middle;\n",
       "    }\n",
       "\n",
       "    .dataframe tbody tr th {\n",
       "        vertical-align: top;\n",
       "    }\n",
       "\n",
       "    .dataframe thead th {\n",
       "        text-align: right;\n",
       "    }\n",
       "</style>\n",
       "<table border=\"1\" class=\"dataframe\">\n",
       "  <thead>\n",
       "    <tr style=\"text-align: right;\">\n",
       "      <th>spending_flag</th>\n",
       "      <th>High Spender</th>\n",
       "      <th>Low Spender</th>\n",
       "    </tr>\n",
       "    <tr>\n",
       "      <th>region</th>\n",
       "      <th></th>\n",
       "      <th></th>\n",
       "    </tr>\n",
       "  </thead>\n",
       "  <tbody>\n",
       "    <tr>\n",
       "      <th>Midwest</th>\n",
       "      <td>29362</td>\n",
       "      <td>7574914</td>\n",
       "    </tr>\n",
       "    <tr>\n",
       "      <th>Northeast</th>\n",
       "      <td>18717</td>\n",
       "      <td>5709930</td>\n",
       "    </tr>\n",
       "    <tr>\n",
       "      <th>South</th>\n",
       "      <td>40980</td>\n",
       "      <td>10761417</td>\n",
       "    </tr>\n",
       "    <tr>\n",
       "      <th>West</th>\n",
       "      <td>31652</td>\n",
       "      <td>8269269</td>\n",
       "    </tr>\n",
       "  </tbody>\n",
       "</table>\n",
       "</div>"
      ],
      "text/plain": [
       "spending_flag  High Spender  Low Spender\n",
       "region                                  \n",
       "Midwest               29362      7574914\n",
       "Northeast             18717      5709930\n",
       "South                 40980     10761417\n",
       "West                  31652      8269269"
      ]
     },
     "execution_count": 13,
     "metadata": {},
     "output_type": "execute_result"
    }
   ],
   "source": [
    "crosstab"
   ]
  },
  {
   "cell_type": "code",
   "execution_count": 14,
   "id": "253571de",
   "metadata": {},
   "outputs": [],
   "source": [
    "# Checking the Midwest's spending habbits\n",
    "Midwest = (29362/7604276)*100"
   ]
  },
  {
   "cell_type": "code",
   "execution_count": 15,
   "id": "88de10bc",
   "metadata": {},
   "outputs": [
    {
     "data": {
      "text/plain": [
       "0.3861248592239419"
      ]
     },
     "execution_count": 15,
     "metadata": {},
     "output_type": "execute_result"
    }
   ],
   "source": [
    "Midwest"
   ]
  },
  {
   "cell_type": "code",
   "execution_count": 16,
   "id": "ec6ce3f5",
   "metadata": {},
   "outputs": [],
   "source": [
    "# Checking the Northeast's spending habbits\n",
    "Northeast = (18717/5728647)*100"
   ]
  },
  {
   "cell_type": "code",
   "execution_count": 17,
   "id": "0996382a",
   "metadata": {},
   "outputs": [
    {
     "data": {
      "text/plain": [
       "0.3267263631360075"
      ]
     },
     "execution_count": 17,
     "metadata": {},
     "output_type": "execute_result"
    }
   ],
   "source": [
    "Northeast"
   ]
  },
  {
   "cell_type": "code",
   "execution_count": 18,
   "id": "ad5aba61",
   "metadata": {},
   "outputs": [],
   "source": [
    "# Checking the South's spending habbits\n",
    "South = (40980/10802397)*100"
   ]
  },
  {
   "cell_type": "code",
   "execution_count": 19,
   "id": "71e0e474",
   "metadata": {},
   "outputs": [
    {
     "data": {
      "text/plain": [
       "0.37936024754505876"
      ]
     },
     "execution_count": 19,
     "metadata": {},
     "output_type": "execute_result"
    }
   ],
   "source": [
    "South"
   ]
  },
  {
   "cell_type": "code",
   "execution_count": 20,
   "id": "51fdd10f",
   "metadata": {},
   "outputs": [
    {
     "data": {
      "text/plain": [
       "8300921"
      ]
     },
     "execution_count": 20,
     "metadata": {},
     "output_type": "execute_result"
    }
   ],
   "source": [
    "31652+8269269"
   ]
  },
  {
   "cell_type": "code",
   "execution_count": 21,
   "id": "272e0ea2",
   "metadata": {},
   "outputs": [],
   "source": [
    "# Checking the West's spending habbits\n",
    "West = (31652/8300921)*100"
   ]
  },
  {
   "cell_type": "code",
   "execution_count": 22,
   "id": "1318684f",
   "metadata": {},
   "outputs": [
    {
     "data": {
      "text/plain": [
       "0.38130708628596754"
      ]
     },
     "execution_count": 22,
     "metadata": {},
     "output_type": "execute_result"
    }
   ],
   "source": [
    "West"
   ]
  },
  {
   "cell_type": "markdown",
   "id": "88be6365",
   "metadata": {},
   "source": [
    "#### ANSWER: There isn't much of a difference for individual regions within the United States. They all seem to contribute about the same amount when it comes to higher spending, which is around .3 of a percentage."
   ]
  },
  {
   "cell_type": "markdown",
   "id": "f95df741",
   "metadata": {},
   "source": [
    "### Question 4. The Instacart CFO isn’t interested in customers who don’t generate much revenue for the app. Create an exclusion flag for low-activity customers (customers with less than 5 orders) and exclude them from the data. Make sure you export this sample."
   ]
  },
  {
   "cell_type": "code",
   "execution_count": 23,
   "id": "85907b2d",
   "metadata": {},
   "outputs": [],
   "source": [
    "# Creating a condition for Low-activity customers\n",
    "db_merge.loc[db_merge['max_order'] < 5, 'exclusion_flag'] = 'Low-activity customer'"
   ]
  },
  {
   "cell_type": "code",
   "execution_count": 24,
   "id": "7d7c7ed9",
   "metadata": {},
   "outputs": [],
   "source": [
    "# Creating a condition for High-activity customers\n",
    "db_merge.loc[db_merge['max_order'] >= 5, 'exclusion_flag'] = 'High-activity customer'"
   ]
  },
  {
   "cell_type": "code",
   "execution_count": 25,
   "id": "89066f69",
   "metadata": {
    "scrolled": true
   },
   "outputs": [
    {
     "data": {
      "text/plain": [
       "High-activity customer    30994611\n",
       "Low-activity customer      1441630\n",
       "Name: exclusion_flag, dtype: int64"
      ]
     },
     "execution_count": 25,
     "metadata": {},
     "output_type": "execute_result"
    }
   ],
   "source": [
    "# Checking the exclusion flag\n",
    "db_merge['exclusion_flag'].value_counts(dropna = False)"
   ]
  },
  {
   "cell_type": "code",
   "execution_count": 26,
   "id": "f2765c0c",
   "metadata": {},
   "outputs": [],
   "source": [
    "# Getting rid of all Low-activity customers\n",
    "df_active_customers = db_merge[db_merge.exclusion_flag != 'Low-activity customer']"
   ]
  },
  {
   "cell_type": "code",
   "execution_count": 27,
   "id": "6da34fa3",
   "metadata": {},
   "outputs": [
    {
     "data": {
      "text/plain": [
       "(30994611, 30)"
      ]
     },
     "execution_count": 27,
     "metadata": {},
     "output_type": "execute_result"
    }
   ],
   "source": [
    "# Checking the new shape of the database\n",
    "df_active_customers.shape"
   ]
  },
  {
   "cell_type": "code",
   "execution_count": 28,
   "id": "1c72dadc",
   "metadata": {},
   "outputs": [
    {
     "data": {
      "text/plain": [
       "(32436241, 30)"
      ]
     },
     "execution_count": 28,
     "metadata": {},
     "output_type": "execute_result"
    }
   ],
   "source": [
    "# Checking the original shape of the database\n",
    "db_merge.shape"
   ]
  },
  {
   "cell_type": "code",
   "execution_count": 29,
   "id": "9c7a490e",
   "metadata": {},
   "outputs": [
    {
     "data": {
      "text/plain": [
       "30994611"
      ]
     },
     "execution_count": 29,
     "metadata": {},
     "output_type": "execute_result"
    }
   ],
   "source": [
    "# Checking to make sure all Low-activity customers are gone\n",
    "32436241-1441630"
   ]
  },
  {
   "cell_type": "code",
   "execution_count": 30,
   "id": "bbd45be3",
   "metadata": {},
   "outputs": [],
   "source": [
    "# Exporting sample database\n",
    "df_active_customers.to_pickle(os.path.join(path, '02 Data', 'Prepared Data', 'Active_Customers.pkl'))"
   ]
  },
  {
   "cell_type": "markdown",
   "id": "44a6ed26",
   "metadata": {},
   "source": [
    "### Question 5. The marketing and business strategy units at Instacart want to create more-relevant marketing strategies for different products and are, thus, curious about customer profiling in their database. Create a profiling variable based on age, income, certain goods in the “department_id” column, and number of dependents. You might also use the “orders_day_of_the_week” and “order_hour_of_day” columns if you can think of a way they would impact customer profiles. (Hint: As an example, try thinking of what characteristics would lead you to the profile “Single adult” or “Young parent.”)"
   ]
  },
  {
   "cell_type": "markdown",
   "id": "8fd0efcb",
   "metadata": {},
   "source": [
    "#### Question 5.1: AGE"
   ]
  },
  {
   "cell_type": "code",
   "execution_count": 31,
   "id": "45dffa51",
   "metadata": {},
   "outputs": [
    {
     "data": {
      "text/plain": [
       "18    500905\n",
       "19    520226\n",
       "20    503331\n",
       "21    513057\n",
       "22    514429\n",
       "       ...  \n",
       "77    502650\n",
       "78    495710\n",
       "79    530325\n",
       "80    515676\n",
       "81    509830\n",
       "Name: Age, Length: 64, dtype: int64"
      ]
     },
     "execution_count": 31,
     "metadata": {},
     "output_type": "execute_result"
    }
   ],
   "source": [
    "# Checking the age range of customers \n",
    "db_merge['Age'].value_counts().sort_index()"
   ]
  },
  {
   "cell_type": "code",
   "execution_count": 32,
   "id": "b55d03e6",
   "metadata": {},
   "outputs": [],
   "source": [
    "# Creating condition for age ranges\n",
    "\n",
    "age_groups = []\n",
    "\n",
    "for value in db_merge['Age']:\n",
    "    if value <= 20:\n",
    "        age_groups.append('18-20')\n",
    "    elif (value > 20) and (value <= 30):\n",
    "        age_groups.append('21-30')\n",
    "    elif (value > 30) and (value <= 40):\n",
    "        age_groups.append('31-40')\n",
    "    elif (value > 40) and (value <= 50):\n",
    "        age_groups.append('41-50')\n",
    "    elif (value > 50) and (value <= 60):\n",
    "        age_groups.append('51-60')\n",
    "    elif (value > 60) and (value <= 70):\n",
    "        age_groups.append('61-70')\n",
    "    elif (value > 70) and (value <= 80):\n",
    "        age_groups.append('71-80')\n",
    "    elif (value > 80) and (value <= 90):\n",
    "        age_groups.append('80+')    \n",
    "    else:\n",
    "        result.append('Not in age category')"
   ]
  },
  {
   "cell_type": "code",
   "execution_count": 33,
   "id": "d8cd73ca",
   "metadata": {},
   "outputs": [],
   "source": [
    "# Applying condition to database\n",
    "db_merge['age_groups'] = age_groups"
   ]
  },
  {
   "cell_type": "code",
   "execution_count": 34,
   "id": "73f946d8",
   "metadata": {},
   "outputs": [
    {
     "data": {
      "text/plain": [
       "18-20    1524462\n",
       "21-30    5081491\n",
       "31-40    5075330\n",
       "41-50    5096970\n",
       "51-60    5065142\n",
       "61-70    5009601\n",
       "71-80    5073415\n",
       "80+       509830\n",
       "Name: age_groups, dtype: int64"
      ]
     },
     "execution_count": 34,
     "metadata": {},
     "output_type": "execute_result"
    }
   ],
   "source": [
    "# Checking condition age_groups\n",
    "db_merge['age_groups'].value_counts().sort_index()"
   ]
  },
  {
   "cell_type": "markdown",
   "id": "dcfcc1d3",
   "metadata": {},
   "source": [
    "#### Question 5.2: Income"
   ]
  },
  {
   "cell_type": "code",
   "execution_count": 35,
   "id": "ccba60b9",
   "metadata": {},
   "outputs": [
    {
     "data": {
      "text/plain": [
       "<AxesSubplot:ylabel='Frequency'>"
      ]
     },
     "execution_count": 35,
     "metadata": {},
     "output_type": "execute_result"
    },
    {
     "data": {
      "image/png": "[encoded data removed]",
      "text/plain": [
       "<Figure size 432x288 with 1 Axes>"
      ]
     },
     "metadata": {
      "needs_background": "light"
     },
     "output_type": "display_data"
    }
   ],
   "source": [
    "# Creating a histogram to plot income groups\n",
    "db_merge['Income'].plot.hist(bins = 20)"
   ]
  },
  {
   "cell_type": "code",
   "execution_count": 36,
   "id": "c2780655",
   "metadata": {},
   "outputs": [],
   "source": [
    "# Creating condtion for income ranges\n",
    "\n",
    "income_groups = []\n",
    "\n",
    "for value in db_merge['Income']:\n",
    "    if value <= 50000: \n",
    "        income_groups.append('000000-050000')\n",
    "    elif (value > 50000) and (value <= 100000):\n",
    "        income_groups.append('050000-100000')\n",
    "    elif (value > 100000) and (value <= 150000):\n",
    "        income_groups.append('100000-150000')\n",
    "    elif (value > 150000) and (value <= 200000):\n",
    "        income_groups.append('150000-200000')\n",
    "    elif (value > 200000) and (value <= 250000):\n",
    "        income_groups.append('200000-250000')\n",
    "    elif (value > 250000) and (value <= 300000):\n",
    "        income_groups.append('250000-300000')\n",
    "    elif (value > 300000) and (value <= 350000):\n",
    "        income_groups.append('300000-350000')\n",
    "    elif (value > 350000) and (value <= 400000):\n",
    "        income_groups.append('350000-400000')\n",
    "    elif (value > 400000):\n",
    "        income_groups.append('400000+')\n",
    "    else: \n",
    "        income_groups.append('ERROR')"
   ]
  },
  {
   "cell_type": "code",
   "execution_count": 37,
   "id": "2b2f20a0",
   "metadata": {},
   "outputs": [],
   "source": [
    "# Applying condition to database\n",
    "db_merge['income_groups'] = income_groups"
   ]
  },
  {
   "cell_type": "code",
   "execution_count": 38,
   "id": "f2d913f3",
   "metadata": {},
   "outputs": [
    {
     "data": {
      "text/plain": [
       "000000-050000     3598083\n",
       "050000-100000    14010461\n",
       "100000-150000    10773067\n",
       "150000-200000     3795982\n",
       "200000-250000       75943\n",
       "250000-300000       81031\n",
       "300000-350000       27278\n",
       "350000-400000       26701\n",
       "400000+             47695\n",
       "Name: income_groups, dtype: int64"
      ]
     },
     "execution_count": 38,
     "metadata": {},
     "output_type": "execute_result"
    }
   ],
   "source": [
    "# Checking condition age_groups\n",
    "db_merge['income_groups'].value_counts().sort_index()"
   ]
  },
  {
   "cell_type": "markdown",
   "id": "c87c7e87",
   "metadata": {},
   "source": [
    "#### Question 5.3: Family Status"
   ]
  },
  {
   "cell_type": "code",
   "execution_count": 39,
   "id": "405aaa14",
   "metadata": {},
   "outputs": [
    {
     "data": {
      "text/plain": [
       "married                             22778287\n",
       "single                               5331128\n",
       "divorced/widowed                     2774573\n",
       "living with parents and siblings     1552253\n",
       "Name: Marital Status, dtype: int64"
      ]
     },
     "execution_count": 39,
     "metadata": {},
     "output_type": "execute_result"
    }
   ],
   "source": [
    "# Checking the frequency of Marital Status column\n",
    "db_merge['Marital Status'].value_counts()"
   ]
  },
  {
   "cell_type": "markdown",
   "id": "8668b10c",
   "metadata": {},
   "source": [
    "#### Question 5.4: Parental Status"
   ]
  },
  {
   "cell_type": "code",
   "execution_count": 40,
   "id": "cc8345f4",
   "metadata": {},
   "outputs": [
    {
     "data": {
      "text/plain": [
       "0    8105701\n",
       "1    8088770\n",
       "2    8098987\n",
       "3    8142783\n",
       "Name: n_dependants, dtype: int64"
      ]
     },
     "execution_count": 40,
     "metadata": {},
     "output_type": "execute_result"
    }
   ],
   "source": [
    "# Checking the frequency of n_dependants column\n",
    "db_merge['n_dependants'].value_counts().sort_index()"
   ]
  },
  {
   "cell_type": "code",
   "execution_count": 41,
   "id": "a26779fb",
   "metadata": {},
   "outputs": [],
   "source": [
    "# Creating a condition for non-parents\n",
    "db_merge.loc[db_merge['n_dependants'] == 0, 'parental_status'] = 'not a parent'"
   ]
  },
  {
   "cell_type": "code",
   "execution_count": 42,
   "id": "61b7f934",
   "metadata": {},
   "outputs": [],
   "source": [
    "# Creating a condition for parents\n",
    "db_merge.loc[db_merge['n_dependants'] >= 1, 'parental_status'] = 'parent'"
   ]
  },
  {
   "cell_type": "code",
   "execution_count": 43,
   "id": "919b1893",
   "metadata": {},
   "outputs": [
    {
     "data": {
      "text/plain": [
       "parent          24330540\n",
       "not a parent     8105701\n",
       "Name: parental_status, dtype: int64"
      ]
     },
     "execution_count": 43,
     "metadata": {},
     "output_type": "execute_result"
    }
   ],
   "source": [
    "db_merge['parental_status'].value_counts(dropna = False)"
   ]
  },
  {
   "cell_type": "markdown",
   "id": "970f2368",
   "metadata": {},
   "source": [
    "#### Question 5.5: Certain Goods (department_id)"
   ]
  },
  {
   "cell_type": "code",
   "execution_count": 44,
   "id": "136afa98",
   "metadata": {},
   "outputs": [],
   "source": [
    "# Importing departments.csv\n",
    "df_dep = pd.read_csv(os.path.join(path, '02 Data', 'Original Data', 'departments.csv'), index_col = False)"
   ]
  },
  {
   "cell_type": "code",
   "execution_count": 45,
   "id": "ea3fad63",
   "metadata": {},
   "outputs": [
    {
     "data": {
      "text/html": [
       "<div>\n",
       "<style scoped>\n",
       "    .dataframe tbody tr th:only-of-type {\n",
       "        vertical-align: middle;\n",
       "    }\n",
       "\n",
       "    .dataframe tbody tr th {\n",
       "        vertical-align: top;\n",
       "    }\n",
       "\n",
       "    .dataframe thead th {\n",
       "        text-align: right;\n",
       "    }\n",
       "</style>\n",
       "<table border=\"1\" class=\"dataframe\">\n",
       "  <thead>\n",
       "    <tr style=\"text-align: right;\">\n",
       "      <th></th>\n",
       "      <th>0</th>\n",
       "    </tr>\n",
       "  </thead>\n",
       "  <tbody>\n",
       "    <tr>\n",
       "      <th>department_id</th>\n",
       "      <td>department</td>\n",
       "    </tr>\n",
       "    <tr>\n",
       "      <th>1</th>\n",
       "      <td>frozen</td>\n",
       "    </tr>\n",
       "    <tr>\n",
       "      <th>2</th>\n",
       "      <td>other</td>\n",
       "    </tr>\n",
       "    <tr>\n",
       "      <th>3</th>\n",
       "      <td>bakery</td>\n",
       "    </tr>\n",
       "    <tr>\n",
       "      <th>4</th>\n",
       "      <td>produce</td>\n",
       "    </tr>\n",
       "    <tr>\n",
       "      <th>5</th>\n",
       "      <td>alcohol</td>\n",
       "    </tr>\n",
       "    <tr>\n",
       "      <th>6</th>\n",
       "      <td>international</td>\n",
       "    </tr>\n",
       "    <tr>\n",
       "      <th>7</th>\n",
       "      <td>beverages</td>\n",
       "    </tr>\n",
       "    <tr>\n",
       "      <th>8</th>\n",
       "      <td>pets</td>\n",
       "    </tr>\n",
       "    <tr>\n",
       "      <th>9</th>\n",
       "      <td>dry goods pasta</td>\n",
       "    </tr>\n",
       "    <tr>\n",
       "      <th>10</th>\n",
       "      <td>bulk</td>\n",
       "    </tr>\n",
       "    <tr>\n",
       "      <th>11</th>\n",
       "      <td>personal care</td>\n",
       "    </tr>\n",
       "    <tr>\n",
       "      <th>12</th>\n",
       "      <td>meat seafood</td>\n",
       "    </tr>\n",
       "    <tr>\n",
       "      <th>13</th>\n",
       "      <td>pantry</td>\n",
       "    </tr>\n",
       "    <tr>\n",
       "      <th>14</th>\n",
       "      <td>breakfast</td>\n",
       "    </tr>\n",
       "    <tr>\n",
       "      <th>15</th>\n",
       "      <td>canned goods</td>\n",
       "    </tr>\n",
       "    <tr>\n",
       "      <th>16</th>\n",
       "      <td>dairy eggs</td>\n",
       "    </tr>\n",
       "    <tr>\n",
       "      <th>17</th>\n",
       "      <td>household</td>\n",
       "    </tr>\n",
       "    <tr>\n",
       "      <th>18</th>\n",
       "      <td>babies</td>\n",
       "    </tr>\n",
       "    <tr>\n",
       "      <th>19</th>\n",
       "      <td>snacks</td>\n",
       "    </tr>\n",
       "    <tr>\n",
       "      <th>20</th>\n",
       "      <td>deli</td>\n",
       "    </tr>\n",
       "    <tr>\n",
       "      <th>21</th>\n",
       "      <td>missing</td>\n",
       "    </tr>\n",
       "  </tbody>\n",
       "</table>\n",
       "</div>"
      ],
      "text/plain": [
       "                             0\n",
       "department_id       department\n",
       "1                       frozen\n",
       "2                        other\n",
       "3                       bakery\n",
       "4                      produce\n",
       "5                      alcohol\n",
       "6                international\n",
       "7                    beverages\n",
       "8                         pets\n",
       "9              dry goods pasta\n",
       "10                        bulk\n",
       "11               personal care\n",
       "12                meat seafood\n",
       "13                      pantry\n",
       "14                   breakfast\n",
       "15                canned goods\n",
       "16                  dairy eggs\n",
       "17                   household\n",
       "18                      babies\n",
       "19                      snacks\n",
       "20                        deli\n",
       "21                     missing"
      ]
     },
     "execution_count": 45,
     "metadata": {},
     "output_type": "execute_result"
    }
   ],
   "source": [
    "# Transposing data to identify what each number correlates too\n",
    "df_dep.T"
   ]
  },
  {
   "cell_type": "code",
   "execution_count": 46,
   "id": "5bbc176a",
   "metadata": {},
   "outputs": [],
   "source": [
    "# Creating condtion for deparment types with department_id\n",
    "\n",
    "department_type = []\n",
    "\n",
    "for value in db_merge['department_id']:\n",
    "    if (value == 1): \n",
    "        department_type.append('frozen')\n",
    "    elif (value == 2):\n",
    "        department_type.append('other')\n",
    "    elif (value == 3):\n",
    "        department_type.append('bakery')\n",
    "    elif (value == 4):\n",
    "        department_type.append('produce')\n",
    "    elif (value == 5):\n",
    "        department_type.append('alcohol')\n",
    "    elif (value == 6):\n",
    "        department_type.append('international')\n",
    "    elif (value == 7):\n",
    "        department_type.append('beverages')\n",
    "    elif (value == 8):\n",
    "        department_type.append('pets')\n",
    "    elif (value == 9):\n",
    "        department_type.append('dry goods pasta')\n",
    "    elif (value == 10):\n",
    "        department_type.append('bulk')\n",
    "    elif (value == 11):\n",
    "        department_type.append('personal care')\n",
    "    elif (value == 12):\n",
    "        department_type.append('meat seafood')\n",
    "    elif (value == 13):\n",
    "        department_type.append('pantry')\n",
    "    elif (value == 14):\n",
    "        department_type.append('breakfast')\n",
    "    elif (value == 15):\n",
    "        department_type.append('canned goods')\n",
    "    elif (value == 16):\n",
    "        department_type.append('dairy eggs')\n",
    "    elif (value == 17):\n",
    "        department_type.append('household')\n",
    "    elif (value == 18):\n",
    "        department_type.append('babies')\n",
    "    elif (value == 19):\n",
    "        department_type.append('snacks')\n",
    "    elif (value == 20):\n",
    "        department_type.append('deli')\n",
    "    elif (value == 21):\n",
    "        department_type.append('missing')\n",
    "    else: \n",
    "        department_type.append('MISSING DATA')"
   ]
  },
  {
   "cell_type": "code",
   "execution_count": 47,
   "id": "29a02bf2",
   "metadata": {},
   "outputs": [],
   "source": [
    "# Applying condition to database\n",
    "db_merge['department_type'] = department_type"
   ]
  },
  {
   "cell_type": "code",
   "execution_count": 48,
   "id": "f7ed9fd8",
   "metadata": {},
   "outputs": [
    {
     "data": {
      "text/plain": [
       "produce            9479291\n",
       "dairy eggs         5414016\n",
       "snacks             2887550\n",
       "beverages          2688159\n",
       "frozen             2236432\n",
       "pantry             1875577\n",
       "bakery             1176787\n",
       "canned goods       1068058\n",
       "deli               1051249\n",
       "dry goods pasta     866627\n",
       "household           738666\n",
       "breakfast           710647\n",
       "meat seafood        708931\n",
       "personal care       447691\n",
       "babies              423802\n",
       "international       269253\n",
       "alcohol             153743\n",
       "pets                 97724\n",
       "missing              69145\n",
       "other                36291\n",
       "bulk                 34573\n",
       "MISSING DATA          2029\n",
       "Name: department_type, dtype: int64"
      ]
     },
     "execution_count": 48,
     "metadata": {},
     "output_type": "execute_result"
    }
   ],
   "source": [
    "# Checking condition department_type\n",
    "db_merge['department_type'].value_counts()"
   ]
  },
  {
   "cell_type": "code",
   "execution_count": 49,
   "id": "5943ee66",
   "metadata": {},
   "outputs": [],
   "source": [
    "# Making the output of columns larger to view MISSING DATA\n",
    "pd.options.display.max_columns = 50"
   ]
  },
  {
   "cell_type": "code",
   "execution_count": 50,
   "id": "dd757222",
   "metadata": {},
   "outputs": [],
   "source": [
    "# Creating a dataframe to check why there is MISSING DATA\n",
    "df_nan = db_merge[db_merge['department_id'].isnull() == True]"
   ]
  },
  {
   "cell_type": "code",
   "execution_count": 51,
   "id": "6ddfc1e8",
   "metadata": {},
   "outputs": [
    {
     "data": {
      "text/html": [
       "<div>\n",
       "<style scoped>\n",
       "    .dataframe tbody tr th:only-of-type {\n",
       "        vertical-align: middle;\n",
       "    }\n",
       "\n",
       "    .dataframe tbody tr th {\n",
       "        vertical-align: top;\n",
       "    }\n",
       "\n",
       "    .dataframe thead th {\n",
       "        text-align: right;\n",
       "    }\n",
       "</style>\n",
       "<table border=\"1\" class=\"dataframe\">\n",
       "  <thead>\n",
       "    <tr style=\"text-align: right;\">\n",
       "      <th></th>\n",
       "      <th>order_id</th>\n",
       "      <th>user_id</th>\n",
       "      <th>order_number</th>\n",
       "      <th>order_day_of_week</th>\n",
       "      <th>order_hour_of_day</th>\n",
       "      <th>days_since_prior_order</th>\n",
       "      <th>product_id</th>\n",
       "      <th>add_to_cart_order</th>\n",
       "      <th>reordered</th>\n",
       "      <th>product_name</th>\n",
       "      <th>aisle_id</th>\n",
       "      <th>department_id</th>\n",
       "      <th>prices</th>\n",
       "      <th>max_order</th>\n",
       "      <th>loyalty_flag</th>\n",
       "      <th>spending</th>\n",
       "      <th>spending_flag</th>\n",
       "      <th>frequency</th>\n",
       "      <th>frequency_flag</th>\n",
       "      <th>Last Name</th>\n",
       "      <th>Gender</th>\n",
       "      <th>State</th>\n",
       "      <th>Age</th>\n",
       "      <th>Date Joined</th>\n",
       "      <th>n_dependants</th>\n",
       "      <th>Marital Status</th>\n",
       "      <th>Income</th>\n",
       "      <th>_merge</th>\n",
       "      <th>region</th>\n",
       "      <th>exclusion_flag</th>\n",
       "      <th>age_groups</th>\n",
       "      <th>income_groups</th>\n",
       "      <th>parental_status</th>\n",
       "      <th>department_type</th>\n",
       "    </tr>\n",
       "  </thead>\n",
       "  <tbody>\n",
       "    <tr>\n",
       "      <th>2963</th>\n",
       "      <td>7099</td>\n",
       "      <td>27</td>\n",
       "      <td>63</td>\n",
       "      <td>3</td>\n",
       "      <td>10</td>\n",
       "      <td>1.0</td>\n",
       "      <td>6799</td>\n",
       "      <td>1</td>\n",
       "      <td>0</td>\n",
       "      <td>NaN</td>\n",
       "      <td>NaN</td>\n",
       "      <td>NaN</td>\n",
       "      <td>NaN</td>\n",
       "      <td>81</td>\n",
       "      <td>Loyal customer</td>\n",
       "      <td>7.659269</td>\n",
       "      <td>Low Spender</td>\n",
       "      <td>5.0</td>\n",
       "      <td>Frequent customer</td>\n",
       "      <td>Waters</td>\n",
       "      <td>Female</td>\n",
       "      <td>New York</td>\n",
       "      <td>81</td>\n",
       "      <td>4/25/2018</td>\n",
       "      <td>0</td>\n",
       "      <td>divorced/widowed</td>\n",
       "      <td>110170</td>\n",
       "      <td>both</td>\n",
       "      <td>Northeast</td>\n",
       "      <td>High-activity customer</td>\n",
       "      <td>80+</td>\n",
       "      <td>100000-150000</td>\n",
       "      <td>not a parent</td>\n",
       "      <td>MISSING DATA</td>\n",
       "    </tr>\n",
       "    <tr>\n",
       "      <th>3205</th>\n",
       "      <td>1837192</td>\n",
       "      <td>27</td>\n",
       "      <td>80</td>\n",
       "      <td>2</td>\n",
       "      <td>8</td>\n",
       "      <td>6.0</td>\n",
       "      <td>6799</td>\n",
       "      <td>9</td>\n",
       "      <td>1</td>\n",
       "      <td>NaN</td>\n",
       "      <td>NaN</td>\n",
       "      <td>NaN</td>\n",
       "      <td>NaN</td>\n",
       "      <td>81</td>\n",
       "      <td>Loyal customer</td>\n",
       "      <td>7.659269</td>\n",
       "      <td>Low Spender</td>\n",
       "      <td>5.0</td>\n",
       "      <td>Frequent customer</td>\n",
       "      <td>Waters</td>\n",
       "      <td>Female</td>\n",
       "      <td>New York</td>\n",
       "      <td>81</td>\n",
       "      <td>4/25/2018</td>\n",
       "      <td>0</td>\n",
       "      <td>divorced/widowed</td>\n",
       "      <td>110170</td>\n",
       "      <td>both</td>\n",
       "      <td>Northeast</td>\n",
       "      <td>High-activity customer</td>\n",
       "      <td>80+</td>\n",
       "      <td>100000-150000</td>\n",
       "      <td>not a parent</td>\n",
       "      <td>MISSING DATA</td>\n",
       "    </tr>\n",
       "    <tr>\n",
       "      <th>45606</th>\n",
       "      <td>2915432</td>\n",
       "      <td>298</td>\n",
       "      <td>1</td>\n",
       "      <td>4</td>\n",
       "      <td>14</td>\n",
       "      <td>NaN</td>\n",
       "      <td>6799</td>\n",
       "      <td>2</td>\n",
       "      <td>0</td>\n",
       "      <td>NaN</td>\n",
       "      <td>NaN</td>\n",
       "      <td>NaN</td>\n",
       "      <td>NaN</td>\n",
       "      <td>3</td>\n",
       "      <td>New customer</td>\n",
       "      <td>7.465957</td>\n",
       "      <td>Low Spender</td>\n",
       "      <td>14.0</td>\n",
       "      <td>Regular customer</td>\n",
       "      <td>Hall</td>\n",
       "      <td>Female</td>\n",
       "      <td>Tennessee</td>\n",
       "      <td>57</td>\n",
       "      <td>2/8/2017</td>\n",
       "      <td>3</td>\n",
       "      <td>married</td>\n",
       "      <td>95735</td>\n",
       "      <td>both</td>\n",
       "      <td>South</td>\n",
       "      <td>Low-activity customer</td>\n",
       "      <td>51-60</td>\n",
       "      <td>050000-100000</td>\n",
       "      <td>parent</td>\n",
       "      <td>MISSING DATA</td>\n",
       "    </tr>\n",
       "    <tr>\n",
       "      <th>45637</th>\n",
       "      <td>613874</td>\n",
       "      <td>298</td>\n",
       "      <td>3</td>\n",
       "      <td>1</td>\n",
       "      <td>12</td>\n",
       "      <td>14.0</td>\n",
       "      <td>6799</td>\n",
       "      <td>2</td>\n",
       "      <td>1</td>\n",
       "      <td>NaN</td>\n",
       "      <td>NaN</td>\n",
       "      <td>NaN</td>\n",
       "      <td>NaN</td>\n",
       "      <td>3</td>\n",
       "      <td>New customer</td>\n",
       "      <td>7.465957</td>\n",
       "      <td>Low Spender</td>\n",
       "      <td>14.0</td>\n",
       "      <td>Regular customer</td>\n",
       "      <td>Hall</td>\n",
       "      <td>Female</td>\n",
       "      <td>Tennessee</td>\n",
       "      <td>57</td>\n",
       "      <td>2/8/2017</td>\n",
       "      <td>3</td>\n",
       "      <td>married</td>\n",
       "      <td>95735</td>\n",
       "      <td>both</td>\n",
       "      <td>South</td>\n",
       "      <td>Low-activity customer</td>\n",
       "      <td>51-60</td>\n",
       "      <td>050000-100000</td>\n",
       "      <td>parent</td>\n",
       "      <td>MISSING DATA</td>\n",
       "    </tr>\n",
       "    <tr>\n",
       "      <th>73861</th>\n",
       "      <td>690386</td>\n",
       "      <td>479</td>\n",
       "      <td>1</td>\n",
       "      <td>3</td>\n",
       "      <td>17</td>\n",
       "      <td>NaN</td>\n",
       "      <td>6799</td>\n",
       "      <td>7</td>\n",
       "      <td>0</td>\n",
       "      <td>NaN</td>\n",
       "      <td>NaN</td>\n",
       "      <td>NaN</td>\n",
       "      <td>NaN</td>\n",
       "      <td>23</td>\n",
       "      <td>Regular customer</td>\n",
       "      <td>7.078298</td>\n",
       "      <td>Low Spender</td>\n",
       "      <td>14.0</td>\n",
       "      <td>Regular customer</td>\n",
       "      <td>Haynes</td>\n",
       "      <td>Female</td>\n",
       "      <td>Maine</td>\n",
       "      <td>45</td>\n",
       "      <td>5/26/2017</td>\n",
       "      <td>1</td>\n",
       "      <td>married</td>\n",
       "      <td>157402</td>\n",
       "      <td>both</td>\n",
       "      <td>Northeast</td>\n",
       "      <td>High-activity customer</td>\n",
       "      <td>41-50</td>\n",
       "      <td>150000-200000</td>\n",
       "      <td>parent</td>\n",
       "      <td>MISSING DATA</td>\n",
       "    </tr>\n",
       "    <tr>\n",
       "      <th>...</th>\n",
       "      <td>...</td>\n",
       "      <td>...</td>\n",
       "      <td>...</td>\n",
       "      <td>...</td>\n",
       "      <td>...</td>\n",
       "      <td>...</td>\n",
       "      <td>...</td>\n",
       "      <td>...</td>\n",
       "      <td>...</td>\n",
       "      <td>...</td>\n",
       "      <td>...</td>\n",
       "      <td>...</td>\n",
       "      <td>...</td>\n",
       "      <td>...</td>\n",
       "      <td>...</td>\n",
       "      <td>...</td>\n",
       "      <td>...</td>\n",
       "      <td>...</td>\n",
       "      <td>...</td>\n",
       "      <td>...</td>\n",
       "      <td>...</td>\n",
       "      <td>...</td>\n",
       "      <td>...</td>\n",
       "      <td>...</td>\n",
       "      <td>...</td>\n",
       "      <td>...</td>\n",
       "      <td>...</td>\n",
       "      <td>...</td>\n",
       "      <td>...</td>\n",
       "      <td>...</td>\n",
       "      <td>...</td>\n",
       "      <td>...</td>\n",
       "      <td>...</td>\n",
       "      <td>...</td>\n",
       "    </tr>\n",
       "    <tr>\n",
       "      <th>32262577</th>\n",
       "      <td>2343020</td>\n",
       "      <td>205066</td>\n",
       "      <td>10</td>\n",
       "      <td>1</td>\n",
       "      <td>12</td>\n",
       "      <td>7.0</td>\n",
       "      <td>6799</td>\n",
       "      <td>5</td>\n",
       "      <td>1</td>\n",
       "      <td>NaN</td>\n",
       "      <td>NaN</td>\n",
       "      <td>NaN</td>\n",
       "      <td>NaN</td>\n",
       "      <td>22</td>\n",
       "      <td>Regular customer</td>\n",
       "      <td>7.664607</td>\n",
       "      <td>Low Spender</td>\n",
       "      <td>7.0</td>\n",
       "      <td>Frequent customer</td>\n",
       "      <td>Castro</td>\n",
       "      <td>Male</td>\n",
       "      <td>Vermont</td>\n",
       "      <td>57</td>\n",
       "      <td>8/10/2018</td>\n",
       "      <td>2</td>\n",
       "      <td>married</td>\n",
       "      <td>164067</td>\n",
       "      <td>both</td>\n",
       "      <td>Northeast</td>\n",
       "      <td>High-activity customer</td>\n",
       "      <td>51-60</td>\n",
       "      <td>150000-200000</td>\n",
       "      <td>parent</td>\n",
       "      <td>MISSING DATA</td>\n",
       "    </tr>\n",
       "    <tr>\n",
       "      <th>32263334</th>\n",
       "      <td>1362194</td>\n",
       "      <td>205068</td>\n",
       "      <td>14</td>\n",
       "      <td>6</td>\n",
       "      <td>12</td>\n",
       "      <td>8.0</td>\n",
       "      <td>6799</td>\n",
       "      <td>14</td>\n",
       "      <td>0</td>\n",
       "      <td>NaN</td>\n",
       "      <td>NaN</td>\n",
       "      <td>NaN</td>\n",
       "      <td>NaN</td>\n",
       "      <td>60</td>\n",
       "      <td>Loyal customer</td>\n",
       "      <td>8.253509</td>\n",
       "      <td>Low Spender</td>\n",
       "      <td>6.0</td>\n",
       "      <td>Frequent customer</td>\n",
       "      <td>Shepard</td>\n",
       "      <td>Female</td>\n",
       "      <td>Washington</td>\n",
       "      <td>80</td>\n",
       "      <td>10/5/2018</td>\n",
       "      <td>3</td>\n",
       "      <td>married</td>\n",
       "      <td>94695</td>\n",
       "      <td>both</td>\n",
       "      <td>West</td>\n",
       "      <td>High-activity customer</td>\n",
       "      <td>71-80</td>\n",
       "      <td>050000-100000</td>\n",
       "      <td>parent</td>\n",
       "      <td>MISSING DATA</td>\n",
       "    </tr>\n",
       "    <tr>\n",
       "      <th>32284084</th>\n",
       "      <td>441699</td>\n",
       "      <td>205213</td>\n",
       "      <td>18</td>\n",
       "      <td>5</td>\n",
       "      <td>13</td>\n",
       "      <td>5.0</td>\n",
       "      <td>6799</td>\n",
       "      <td>3</td>\n",
       "      <td>0</td>\n",
       "      <td>NaN</td>\n",
       "      <td>NaN</td>\n",
       "      <td>NaN</td>\n",
       "      <td>NaN</td>\n",
       "      <td>48</td>\n",
       "      <td>Loyal customer</td>\n",
       "      <td>8.249121</td>\n",
       "      <td>Low Spender</td>\n",
       "      <td>8.0</td>\n",
       "      <td>Frequent customer</td>\n",
       "      <td>Brandt</td>\n",
       "      <td>Male</td>\n",
       "      <td>Rhode Island</td>\n",
       "      <td>59</td>\n",
       "      <td>9/21/2018</td>\n",
       "      <td>0</td>\n",
       "      <td>single</td>\n",
       "      <td>119088</td>\n",
       "      <td>both</td>\n",
       "      <td>Northeast</td>\n",
       "      <td>High-activity customer</td>\n",
       "      <td>51-60</td>\n",
       "      <td>100000-150000</td>\n",
       "      <td>not a parent</td>\n",
       "      <td>MISSING DATA</td>\n",
       "    </tr>\n",
       "    <tr>\n",
       "      <th>32284293</th>\n",
       "      <td>793842</td>\n",
       "      <td>205213</td>\n",
       "      <td>27</td>\n",
       "      <td>3</td>\n",
       "      <td>12</td>\n",
       "      <td>9.0</td>\n",
       "      <td>6799</td>\n",
       "      <td>24</td>\n",
       "      <td>1</td>\n",
       "      <td>NaN</td>\n",
       "      <td>NaN</td>\n",
       "      <td>NaN</td>\n",
       "      <td>NaN</td>\n",
       "      <td>48</td>\n",
       "      <td>Loyal customer</td>\n",
       "      <td>8.249121</td>\n",
       "      <td>Low Spender</td>\n",
       "      <td>8.0</td>\n",
       "      <td>Frequent customer</td>\n",
       "      <td>Brandt</td>\n",
       "      <td>Male</td>\n",
       "      <td>Rhode Island</td>\n",
       "      <td>59</td>\n",
       "      <td>9/21/2018</td>\n",
       "      <td>0</td>\n",
       "      <td>single</td>\n",
       "      <td>119088</td>\n",
       "      <td>both</td>\n",
       "      <td>Northeast</td>\n",
       "      <td>High-activity customer</td>\n",
       "      <td>51-60</td>\n",
       "      <td>100000-150000</td>\n",
       "      <td>not a parent</td>\n",
       "      <td>MISSING DATA</td>\n",
       "    </tr>\n",
       "    <tr>\n",
       "      <th>32373711</th>\n",
       "      <td>3418993</td>\n",
       "      <td>205789</td>\n",
       "      <td>13</td>\n",
       "      <td>6</td>\n",
       "      <td>12</td>\n",
       "      <td>7.0</td>\n",
       "      <td>6799</td>\n",
       "      <td>7</td>\n",
       "      <td>0</td>\n",
       "      <td>NaN</td>\n",
       "      <td>NaN</td>\n",
       "      <td>NaN</td>\n",
       "      <td>NaN</td>\n",
       "      <td>15</td>\n",
       "      <td>Regular customer</td>\n",
       "      <td>7.004372</td>\n",
       "      <td>Low Spender</td>\n",
       "      <td>8.0</td>\n",
       "      <td>Frequent customer</td>\n",
       "      <td>Gibson</td>\n",
       "      <td>Male</td>\n",
       "      <td>Arkansas</td>\n",
       "      <td>21</td>\n",
       "      <td>1/14/2017</td>\n",
       "      <td>3</td>\n",
       "      <td>living with parents and siblings</td>\n",
       "      <td>96324</td>\n",
       "      <td>both</td>\n",
       "      <td>South</td>\n",
       "      <td>High-activity customer</td>\n",
       "      <td>21-30</td>\n",
       "      <td>050000-100000</td>\n",
       "      <td>parent</td>\n",
       "      <td>MISSING DATA</td>\n",
       "    </tr>\n",
       "  </tbody>\n",
       "</table>\n",
       "<p>2029 rows × 34 columns</p>\n",
       "</div>"
      ],
      "text/plain": [
       "          order_id  user_id  order_number  order_day_of_week  \\\n",
       "2963          7099       27            63                  3   \n",
       "3205       1837192       27            80                  2   \n",
       "45606      2915432      298             1                  4   \n",
       "45637       613874      298             3                  1   \n",
       "73861       690386      479             1                  3   \n",
       "...            ...      ...           ...                ...   \n",
       "32262577   2343020   205066            10                  1   \n",
       "32263334   1362194   205068            14                  6   \n",
       "32284084    441699   205213            18                  5   \n",
       "32284293    793842   205213            27                  3   \n",
       "32373711   3418993   205789            13                  6   \n",
       "\n",
       "          order_hour_of_day  days_since_prior_order  product_id  \\\n",
       "2963                     10                     1.0        6799   \n",
       "3205                      8                     6.0        6799   \n",
       "45606                    14                     NaN        6799   \n",
       "45637                    12                    14.0        6799   \n",
       "73861                    17                     NaN        6799   \n",
       "...                     ...                     ...         ...   \n",
       "32262577                 12                     7.0        6799   \n",
       "32263334                 12                     8.0        6799   \n",
       "32284084                 13                     5.0        6799   \n",
       "32284293                 12                     9.0        6799   \n",
       "32373711                 12                     7.0        6799   \n",
       "\n",
       "          add_to_cart_order  reordered product_name  aisle_id  department_id  \\\n",
       "2963                      1          0          NaN       NaN            NaN   \n",
       "3205                      9          1          NaN       NaN            NaN   \n",
       "45606                     2          0          NaN       NaN            NaN   \n",
       "45637                     2          1          NaN       NaN            NaN   \n",
       "73861                     7          0          NaN       NaN            NaN   \n",
       "...                     ...        ...          ...       ...            ...   \n",
       "32262577                  5          1          NaN       NaN            NaN   \n",
       "32263334                 14          0          NaN       NaN            NaN   \n",
       "32284084                  3          0          NaN       NaN            NaN   \n",
       "32284293                 24          1          NaN       NaN            NaN   \n",
       "32373711                  7          0          NaN       NaN            NaN   \n",
       "\n",
       "          prices  max_order      loyalty_flag  spending spending_flag  \\\n",
       "2963         NaN         81    Loyal customer  7.659269   Low Spender   \n",
       "3205         NaN         81    Loyal customer  7.659269   Low Spender   \n",
       "45606        NaN          3      New customer  7.465957   Low Spender   \n",
       "45637        NaN          3      New customer  7.465957   Low Spender   \n",
       "73861        NaN         23  Regular customer  7.078298   Low Spender   \n",
       "...          ...        ...               ...       ...           ...   \n",
       "32262577     NaN         22  Regular customer  7.664607   Low Spender   \n",
       "32263334     NaN         60    Loyal customer  8.253509   Low Spender   \n",
       "32284084     NaN         48    Loyal customer  8.249121   Low Spender   \n",
       "32284293     NaN         48    Loyal customer  8.249121   Low Spender   \n",
       "32373711     NaN         15  Regular customer  7.004372   Low Spender   \n",
       "\n",
       "          frequency     frequency_flag Last Name  Gender         State  Age  \\\n",
       "2963            5.0  Frequent customer    Waters  Female      New York   81   \n",
       "3205            5.0  Frequent customer    Waters  Female      New York   81   \n",
       "45606          14.0   Regular customer      Hall  Female     Tennessee   57   \n",
       "45637          14.0   Regular customer      Hall  Female     Tennessee   57   \n",
       "73861          14.0   Regular customer    Haynes  Female         Maine   45   \n",
       "...             ...                ...       ...     ...           ...  ...   \n",
       "32262577        7.0  Frequent customer    Castro    Male       Vermont   57   \n",
       "32263334        6.0  Frequent customer   Shepard  Female    Washington   80   \n",
       "32284084        8.0  Frequent customer    Brandt    Male  Rhode Island   59   \n",
       "32284293        8.0  Frequent customer    Brandt    Male  Rhode Island   59   \n",
       "32373711        8.0  Frequent customer    Gibson    Male      Arkansas   21   \n",
       "\n",
       "         Date Joined  n_dependants                    Marital Status  Income  \\\n",
       "2963       4/25/2018             0                  divorced/widowed  110170   \n",
       "3205       4/25/2018             0                  divorced/widowed  110170   \n",
       "45606       2/8/2017             3                           married   95735   \n",
       "45637       2/8/2017             3                           married   95735   \n",
       "73861      5/26/2017             1                           married  157402   \n",
       "...              ...           ...                               ...     ...   \n",
       "32262577   8/10/2018             2                           married  164067   \n",
       "32263334   10/5/2018             3                           married   94695   \n",
       "32284084   9/21/2018             0                            single  119088   \n",
       "32284293   9/21/2018             0                            single  119088   \n",
       "32373711   1/14/2017             3  living with parents and siblings   96324   \n",
       "\n",
       "         _merge     region          exclusion_flag age_groups  income_groups  \\\n",
       "2963       both  Northeast  High-activity customer        80+  100000-150000   \n",
       "3205       both  Northeast  High-activity customer        80+  100000-150000   \n",
       "45606      both      South   Low-activity customer      51-60  050000-100000   \n",
       "45637      both      South   Low-activity customer      51-60  050000-100000   \n",
       "73861      both  Northeast  High-activity customer      41-50  150000-200000   \n",
       "...         ...        ...                     ...        ...            ...   \n",
       "32262577   both  Northeast  High-activity customer      51-60  150000-200000   \n",
       "32263334   both       West  High-activity customer      71-80  050000-100000   \n",
       "32284084   both  Northeast  High-activity customer      51-60  100000-150000   \n",
       "32284293   both  Northeast  High-activity customer      51-60  100000-150000   \n",
       "32373711   both      South  High-activity customer      21-30  050000-100000   \n",
       "\n",
       "         parental_status department_type  \n",
       "2963        not a parent    MISSING DATA  \n",
       "3205        not a parent    MISSING DATA  \n",
       "45606             parent    MISSING DATA  \n",
       "45637             parent    MISSING DATA  \n",
       "73861             parent    MISSING DATA  \n",
       "...                  ...             ...  \n",
       "32262577          parent    MISSING DATA  \n",
       "32263334          parent    MISSING DATA  \n",
       "32284084    not a parent    MISSING DATA  \n",
       "32284293    not a parent    MISSING DATA  \n",
       "32373711          parent    MISSING DATA  \n",
       "\n",
       "[2029 rows x 34 columns]"
      ]
     },
     "execution_count": 51,
     "metadata": {},
     "output_type": "execute_result"
    }
   ],
   "source": [
    "# Running new dataframe\n",
    "df_nan"
   ]
  },
  {
   "cell_type": "markdown",
   "id": "fd0b97ff",
   "metadata": {},
   "source": [
    "##### NOTE: It appears there is a lot of missing data regarding the product. Including product_name, aisle_id, and prices. I'm not going to delete the columns as it helps with more information than hurts."
   ]
  },
  {
   "cell_type": "markdown",
   "id": "90aa9619",
   "metadata": {},
   "source": [
    "#### Question 5.6: orders_day_of_the_week"
   ]
  },
  {
   "cell_type": "code",
   "execution_count": 52,
   "id": "91bc0c10",
   "metadata": {},
   "outputs": [],
   "source": [
    "# Creating condtion for days of the week\n",
    "\n",
    "day_ordered = []\n",
    "\n",
    "for value in db_merge['order_day_of_week']:\n",
    "    if (value == 0): \n",
    "        day_ordered.append('Saturday')\n",
    "    elif (value == 1):\n",
    "        day_ordered.append('Sunday')\n",
    "    elif (value == 2):\n",
    "        day_ordered.append('Monday')\n",
    "    elif (value == 3):\n",
    "        day_ordered.append('Tuesday')\n",
    "    elif (value == 4):\n",
    "        day_ordered.append('Wednesday')\n",
    "    elif (value == 5):\n",
    "        day_ordered.append('Thursday')\n",
    "    elif (value == 6):\n",
    "        day_ordered.append('Friday')\n",
    "    else: \n",
    "        day_ordered.append('MISSING DAY')"
   ]
  },
  {
   "cell_type": "code",
   "execution_count": 53,
   "id": "0ed7fc17",
   "metadata": {},
   "outputs": [],
   "source": [
    "# Applying condition to database\n",
    "db_merge['day_ordered'] = day_ordered"
   ]
  },
  {
   "cell_type": "code",
   "execution_count": 54,
   "id": "25d87117",
   "metadata": {},
   "outputs": [
    {
     "data": {
      "text/plain": [
       "Saturday     6210030\n",
       "Sunday       5666177\n",
       "Friday       4500536\n",
       "Monday       4218024\n",
       "Thursday     4209718\n",
       "Tuesday      3844342\n",
       "Wednesday    3787414\n",
       "Name: day_ordered, dtype: int64"
      ]
     },
     "execution_count": 54,
     "metadata": {},
     "output_type": "execute_result"
    }
   ],
   "source": [
    "# Checking condition department_type\n",
    "db_merge['day_ordered'].value_counts()"
   ]
  },
  {
   "cell_type": "markdown",
   "id": "222eca34",
   "metadata": {},
   "source": [
    "#### Question 5.7: Making comparisions between the data"
   ]
  },
  {
   "cell_type": "code",
   "execution_count": 55,
   "id": "b7c1d3f2",
   "metadata": {},
   "outputs": [],
   "source": [
    "# Creating a Crosstab between Age and parental status\n",
    "crosstab_age_perental_status = pd.crosstab(db_merge['age_groups'], db_merge['parental_status'], dropna = False)"
   ]
  },
  {
   "cell_type": "code",
   "execution_count": 56,
   "id": "b3734d2c",
   "metadata": {},
   "outputs": [
    {
     "data": {
      "text/html": [
       "<div>\n",
       "<style scoped>\n",
       "    .dataframe tbody tr th:only-of-type {\n",
       "        vertical-align: middle;\n",
       "    }\n",
       "\n",
       "    .dataframe tbody tr th {\n",
       "        vertical-align: top;\n",
       "    }\n",
       "\n",
       "    .dataframe thead th {\n",
       "        text-align: right;\n",
       "    }\n",
       "</style>\n",
       "<table border=\"1\" class=\"dataframe\">\n",
       "  <thead>\n",
       "    <tr style=\"text-align: right;\">\n",
       "      <th>parental_status</th>\n",
       "      <th>not a parent</th>\n",
       "      <th>parent</th>\n",
       "    </tr>\n",
       "    <tr>\n",
       "      <th>age_groups</th>\n",
       "      <th></th>\n",
       "      <th></th>\n",
       "    </tr>\n",
       "  </thead>\n",
       "  <tbody>\n",
       "    <tr>\n",
       "      <th>18-20</th>\n",
       "      <td>362174</td>\n",
       "      <td>1162288</td>\n",
       "    </tr>\n",
       "    <tr>\n",
       "      <th>21-30</th>\n",
       "      <td>1283854</td>\n",
       "      <td>3797637</td>\n",
       "    </tr>\n",
       "    <tr>\n",
       "      <th>31-40</th>\n",
       "      <td>1263357</td>\n",
       "      <td>3811973</td>\n",
       "    </tr>\n",
       "    <tr>\n",
       "      <th>41-50</th>\n",
       "      <td>1254400</td>\n",
       "      <td>3842570</td>\n",
       "    </tr>\n",
       "    <tr>\n",
       "      <th>51-60</th>\n",
       "      <td>1284632</td>\n",
       "      <td>3780510</td>\n",
       "    </tr>\n",
       "    <tr>\n",
       "      <th>61-70</th>\n",
       "      <td>1269100</td>\n",
       "      <td>3740501</td>\n",
       "    </tr>\n",
       "    <tr>\n",
       "      <th>71-80</th>\n",
       "      <td>1243373</td>\n",
       "      <td>3830042</td>\n",
       "    </tr>\n",
       "    <tr>\n",
       "      <th>80+</th>\n",
       "      <td>144811</td>\n",
       "      <td>365019</td>\n",
       "    </tr>\n",
       "  </tbody>\n",
       "</table>\n",
       "</div>"
      ],
      "text/plain": [
       "parental_status  not a parent   parent\n",
       "age_groups                            \n",
       "18-20                  362174  1162288\n",
       "21-30                 1283854  3797637\n",
       "31-40                 1263357  3811973\n",
       "41-50                 1254400  3842570\n",
       "51-60                 1284632  3780510\n",
       "61-70                 1269100  3740501\n",
       "71-80                 1243373  3830042\n",
       "80+                    144811   365019"
      ]
     },
     "execution_count": 56,
     "metadata": {},
     "output_type": "execute_result"
    }
   ],
   "source": [
    "crosstab_age_perental_status"
   ]
  },
  {
   "cell_type": "markdown",
   "id": "ddb74630",
   "metadata": {},
   "source": [
    "##### NOTE: Should be documented that if we wanted to advertise towards young adults without kids, we'd be advertising to 1646028 people. Young adult is classified as age ranges between 18-30. Despite this, there are a lot more young parents who use Instacart's services and therefore should be targeted over young adults."
   ]
  },
  {
   "cell_type": "code",
   "execution_count": 57,
   "id": "1816107f",
   "metadata": {},
   "outputs": [],
   "source": [
    "# Creating a Crosstab between Age and Income\n",
    "crosstab_age_income = pd.crosstab(db_merge['age_groups'], db_merge['income_groups'], dropna = False)"
   ]
  },
  {
   "cell_type": "code",
   "execution_count": 58,
   "id": "7968d1a0",
   "metadata": {},
   "outputs": [
    {
     "data": {
      "text/html": [
       "<div>\n",
       "<style scoped>\n",
       "    .dataframe tbody tr th:only-of-type {\n",
       "        vertical-align: middle;\n",
       "    }\n",
       "\n",
       "    .dataframe tbody tr th {\n",
       "        vertical-align: top;\n",
       "    }\n",
       "\n",
       "    .dataframe thead th {\n",
       "        text-align: right;\n",
       "    }\n",
       "</style>\n",
       "<table border=\"1\" class=\"dataframe\">\n",
       "  <thead>\n",
       "    <tr style=\"text-align: right;\">\n",
       "      <th>income_groups</th>\n",
       "      <th>000000-050000</th>\n",
       "      <th>050000-100000</th>\n",
       "      <th>100000-150000</th>\n",
       "      <th>150000-200000</th>\n",
       "      <th>200000-250000</th>\n",
       "      <th>250000-300000</th>\n",
       "      <th>300000-350000</th>\n",
       "      <th>350000-400000</th>\n",
       "      <th>400000+</th>\n",
       "    </tr>\n",
       "    <tr>\n",
       "      <th>age_groups</th>\n",
       "      <th></th>\n",
       "      <th></th>\n",
       "      <th></th>\n",
       "      <th></th>\n",
       "      <th></th>\n",
       "      <th></th>\n",
       "      <th></th>\n",
       "      <th></th>\n",
       "      <th></th>\n",
       "    </tr>\n",
       "  </thead>\n",
       "  <tbody>\n",
       "    <tr>\n",
       "      <th>18-20</th>\n",
       "      <td>235438</td>\n",
       "      <td>1240047</td>\n",
       "      <td>35403</td>\n",
       "      <td>9493</td>\n",
       "      <td>1753</td>\n",
       "      <td>79</td>\n",
       "      <td>1819</td>\n",
       "      <td>430</td>\n",
       "      <td>0</td>\n",
       "    </tr>\n",
       "    <tr>\n",
       "      <th>21-30</th>\n",
       "      <td>809027</td>\n",
       "      <td>4117256</td>\n",
       "      <td>109278</td>\n",
       "      <td>28632</td>\n",
       "      <td>3095</td>\n",
       "      <td>3685</td>\n",
       "      <td>5824</td>\n",
       "      <td>4694</td>\n",
       "      <td>0</td>\n",
       "    </tr>\n",
       "    <tr>\n",
       "      <th>31-40</th>\n",
       "      <td>788553</td>\n",
       "      <td>4118177</td>\n",
       "      <td>119347</td>\n",
       "      <td>28533</td>\n",
       "      <td>3681</td>\n",
       "      <td>6793</td>\n",
       "      <td>3187</td>\n",
       "      <td>7059</td>\n",
       "      <td>0</td>\n",
       "    </tr>\n",
       "    <tr>\n",
       "      <th>41-50</th>\n",
       "      <td>415186</td>\n",
       "      <td>1118394</td>\n",
       "      <td>2573275</td>\n",
       "      <td>926777</td>\n",
       "      <td>19747</td>\n",
       "      <td>21034</td>\n",
       "      <td>5422</td>\n",
       "      <td>1048</td>\n",
       "      <td>16087</td>\n",
       "    </tr>\n",
       "    <tr>\n",
       "      <th>51-60</th>\n",
       "      <td>455723</td>\n",
       "      <td>1108706</td>\n",
       "      <td>2542931</td>\n",
       "      <td>911403</td>\n",
       "      <td>14806</td>\n",
       "      <td>11955</td>\n",
       "      <td>5113</td>\n",
       "      <td>6523</td>\n",
       "      <td>7982</td>\n",
       "    </tr>\n",
       "    <tr>\n",
       "      <th>61-70</th>\n",
       "      <td>426601</td>\n",
       "      <td>1088693</td>\n",
       "      <td>2534602</td>\n",
       "      <td>907873</td>\n",
       "      <td>17709</td>\n",
       "      <td>16571</td>\n",
       "      <td>2151</td>\n",
       "      <td>5318</td>\n",
       "      <td>10083</td>\n",
       "    </tr>\n",
       "    <tr>\n",
       "      <th>71-80</th>\n",
       "      <td>419923</td>\n",
       "      <td>1104266</td>\n",
       "      <td>2598345</td>\n",
       "      <td>900865</td>\n",
       "      <td>14790</td>\n",
       "      <td>18611</td>\n",
       "      <td>3762</td>\n",
       "      <td>1629</td>\n",
       "      <td>11224</td>\n",
       "    </tr>\n",
       "    <tr>\n",
       "      <th>80+</th>\n",
       "      <td>47632</td>\n",
       "      <td>114922</td>\n",
       "      <td>259886</td>\n",
       "      <td>82406</td>\n",
       "      <td>362</td>\n",
       "      <td>2303</td>\n",
       "      <td>0</td>\n",
       "      <td>0</td>\n",
       "      <td>2319</td>\n",
       "    </tr>\n",
       "  </tbody>\n",
       "</table>\n",
       "</div>"
      ],
      "text/plain": [
       "income_groups  000000-050000  050000-100000  100000-150000  150000-200000  \\\n",
       "age_groups                                                                  \n",
       "18-20                 235438        1240047          35403           9493   \n",
       "21-30                 809027        4117256         109278          28632   \n",
       "31-40                 788553        4118177         119347          28533   \n",
       "41-50                 415186        1118394        2573275         926777   \n",
       "51-60                 455723        1108706        2542931         911403   \n",
       "61-70                 426601        1088693        2534602         907873   \n",
       "71-80                 419923        1104266        2598345         900865   \n",
       "80+                    47632         114922         259886          82406   \n",
       "\n",
       "income_groups  200000-250000  250000-300000  300000-350000  350000-400000  \\\n",
       "age_groups                                                                  \n",
       "18-20                   1753             79           1819            430   \n",
       "21-30                   3095           3685           5824           4694   \n",
       "31-40                   3681           6793           3187           7059   \n",
       "41-50                  19747          21034           5422           1048   \n",
       "51-60                  14806          11955           5113           6523   \n",
       "61-70                  17709          16571           2151           5318   \n",
       "71-80                  14790          18611           3762           1629   \n",
       "80+                      362           2303              0              0   \n",
       "\n",
       "income_groups  400000+  \n",
       "age_groups              \n",
       "18-20                0  \n",
       "21-30                0  \n",
       "31-40                0  \n",
       "41-50            16087  \n",
       "51-60             7982  \n",
       "61-70            10083  \n",
       "71-80            11224  \n",
       "80+               2319  "
      ]
     },
     "execution_count": 58,
     "metadata": {},
     "output_type": "execute_result"
    }
   ],
   "source": [
    "crosstab_age_income"
   ]
  },
  {
   "cell_type": "markdown",
   "id": "099ac34a",
   "metadata": {},
   "source": [
    "##### NOTE: This chart isn't as useful as some of the others when it comes to demographics as the majority of 18-40-year-olds don't makeover 400,000 dollars. So a lot of commercials shouldn't be targeted towards people who make over 150,000 as most of Instacart's demographics are below that median."
   ]
  },
  {
   "cell_type": "code",
   "execution_count": 59,
   "id": "8b652cd2",
   "metadata": {},
   "outputs": [],
   "source": [
    "# Creating a Crosstab between Age and department type\n",
    "crosstab_age_department_type = pd.crosstab(db_merge['age_groups'], db_merge['department_type'], dropna = False)"
   ]
  },
  {
   "cell_type": "code",
   "execution_count": 60,
   "id": "d033cbd1",
   "metadata": {},
   "outputs": [
    {
     "data": {
      "text/html": [
       "<div>\n",
       "<style scoped>\n",
       "    .dataframe tbody tr th:only-of-type {\n",
       "        vertical-align: middle;\n",
       "    }\n",
       "\n",
       "    .dataframe tbody tr th {\n",
       "        vertical-align: top;\n",
       "    }\n",
       "\n",
       "    .dataframe thead th {\n",
       "        text-align: right;\n",
       "    }\n",
       "</style>\n",
       "<table border=\"1\" class=\"dataframe\">\n",
       "  <thead>\n",
       "    <tr style=\"text-align: right;\">\n",
       "      <th>department_type</th>\n",
       "      <th>MISSING DATA</th>\n",
       "      <th>alcohol</th>\n",
       "      <th>babies</th>\n",
       "      <th>bakery</th>\n",
       "      <th>beverages</th>\n",
       "      <th>breakfast</th>\n",
       "      <th>bulk</th>\n",
       "      <th>canned goods</th>\n",
       "      <th>dairy eggs</th>\n",
       "      <th>deli</th>\n",
       "      <th>dry goods pasta</th>\n",
       "      <th>frozen</th>\n",
       "      <th>household</th>\n",
       "      <th>international</th>\n",
       "      <th>meat seafood</th>\n",
       "      <th>missing</th>\n",
       "      <th>other</th>\n",
       "      <th>pantry</th>\n",
       "      <th>personal care</th>\n",
       "      <th>pets</th>\n",
       "      <th>produce</th>\n",
       "      <th>snacks</th>\n",
       "    </tr>\n",
       "    <tr>\n",
       "      <th>age_groups</th>\n",
       "      <th></th>\n",
       "      <th></th>\n",
       "      <th></th>\n",
       "      <th></th>\n",
       "      <th></th>\n",
       "      <th></th>\n",
       "      <th></th>\n",
       "      <th></th>\n",
       "      <th></th>\n",
       "      <th></th>\n",
       "      <th></th>\n",
       "      <th></th>\n",
       "      <th></th>\n",
       "      <th></th>\n",
       "      <th></th>\n",
       "      <th></th>\n",
       "      <th></th>\n",
       "      <th></th>\n",
       "      <th></th>\n",
       "      <th></th>\n",
       "      <th></th>\n",
       "      <th></th>\n",
       "    </tr>\n",
       "  </thead>\n",
       "  <tbody>\n",
       "    <tr>\n",
       "      <th>18-20</th>\n",
       "      <td>98</td>\n",
       "      <td>8852</td>\n",
       "      <td>20557</td>\n",
       "      <td>54233</td>\n",
       "      <td>122809</td>\n",
       "      <td>33887</td>\n",
       "      <td>1648</td>\n",
       "      <td>50237</td>\n",
       "      <td>254881</td>\n",
       "      <td>49052</td>\n",
       "      <td>40840</td>\n",
       "      <td>106218</td>\n",
       "      <td>35426</td>\n",
       "      <td>12995</td>\n",
       "      <td>33665</td>\n",
       "      <td>3649</td>\n",
       "      <td>1946</td>\n",
       "      <td>88243</td>\n",
       "      <td>21476</td>\n",
       "      <td>5159</td>\n",
       "      <td>444498</td>\n",
       "      <td>134093</td>\n",
       "    </tr>\n",
       "    <tr>\n",
       "      <th>21-30</th>\n",
       "      <td>355</td>\n",
       "      <td>23547</td>\n",
       "      <td>66414</td>\n",
       "      <td>185082</td>\n",
       "      <td>420077</td>\n",
       "      <td>111998</td>\n",
       "      <td>5518</td>\n",
       "      <td>169690</td>\n",
       "      <td>849619</td>\n",
       "      <td>164346</td>\n",
       "      <td>137567</td>\n",
       "      <td>348632</td>\n",
       "      <td>114351</td>\n",
       "      <td>42422</td>\n",
       "      <td>110329</td>\n",
       "      <td>10960</td>\n",
       "      <td>5793</td>\n",
       "      <td>292749</td>\n",
       "      <td>69804</td>\n",
       "      <td>15451</td>\n",
       "      <td>1480396</td>\n",
       "      <td>456391</td>\n",
       "    </tr>\n",
       "    <tr>\n",
       "      <th>31-40</th>\n",
       "      <td>314</td>\n",
       "      <td>24851</td>\n",
       "      <td>65792</td>\n",
       "      <td>183691</td>\n",
       "      <td>414383</td>\n",
       "      <td>110662</td>\n",
       "      <td>5342</td>\n",
       "      <td>166296</td>\n",
       "      <td>853586</td>\n",
       "      <td>164900</td>\n",
       "      <td>134023</td>\n",
       "      <td>346793</td>\n",
       "      <td>114733</td>\n",
       "      <td>42560</td>\n",
       "      <td>109731</td>\n",
       "      <td>10594</td>\n",
       "      <td>5479</td>\n",
       "      <td>291574</td>\n",
       "      <td>69109</td>\n",
       "      <td>14641</td>\n",
       "      <td>1492122</td>\n",
       "      <td>454154</td>\n",
       "    </tr>\n",
       "    <tr>\n",
       "      <th>41-50</th>\n",
       "      <td>407</td>\n",
       "      <td>24138</td>\n",
       "      <td>69771</td>\n",
       "      <td>185608</td>\n",
       "      <td>422968</td>\n",
       "      <td>112339</td>\n",
       "      <td>5604</td>\n",
       "      <td>166517</td>\n",
       "      <td>855715</td>\n",
       "      <td>164870</td>\n",
       "      <td>134949</td>\n",
       "      <td>349481</td>\n",
       "      <td>115954</td>\n",
       "      <td>42408</td>\n",
       "      <td>111415</td>\n",
       "      <td>11045</td>\n",
       "      <td>5656</td>\n",
       "      <td>296098</td>\n",
       "      <td>71066</td>\n",
       "      <td>15317</td>\n",
       "      <td>1488008</td>\n",
       "      <td>447636</td>\n",
       "    </tr>\n",
       "    <tr>\n",
       "      <th>51-60</th>\n",
       "      <td>282</td>\n",
       "      <td>23789</td>\n",
       "      <td>64244</td>\n",
       "      <td>184254</td>\n",
       "      <td>424912</td>\n",
       "      <td>111203</td>\n",
       "      <td>5170</td>\n",
       "      <td>167489</td>\n",
       "      <td>835038</td>\n",
       "      <td>163690</td>\n",
       "      <td>137123</td>\n",
       "      <td>350560</td>\n",
       "      <td>115319</td>\n",
       "      <td>41929</td>\n",
       "      <td>110243</td>\n",
       "      <td>10721</td>\n",
       "      <td>5715</td>\n",
       "      <td>294554</td>\n",
       "      <td>70977</td>\n",
       "      <td>15022</td>\n",
       "      <td>1477648</td>\n",
       "      <td>455260</td>\n",
       "    </tr>\n",
       "    <tr>\n",
       "      <th>61-70</th>\n",
       "      <td>285</td>\n",
       "      <td>22927</td>\n",
       "      <td>65326</td>\n",
       "      <td>180793</td>\n",
       "      <td>415269</td>\n",
       "      <td>107860</td>\n",
       "      <td>5401</td>\n",
       "      <td>165235</td>\n",
       "      <td>832303</td>\n",
       "      <td>163706</td>\n",
       "      <td>133836</td>\n",
       "      <td>348725</td>\n",
       "      <td>114513</td>\n",
       "      <td>41102</td>\n",
       "      <td>110880</td>\n",
       "      <td>10412</td>\n",
       "      <td>5667</td>\n",
       "      <td>290069</td>\n",
       "      <td>68883</td>\n",
       "      <td>15270</td>\n",
       "      <td>1468158</td>\n",
       "      <td>442981</td>\n",
       "    </tr>\n",
       "    <tr>\n",
       "      <th>71-80</th>\n",
       "      <td>185</td>\n",
       "      <td>23458</td>\n",
       "      <td>64863</td>\n",
       "      <td>184708</td>\n",
       "      <td>425782</td>\n",
       "      <td>110935</td>\n",
       "      <td>5365</td>\n",
       "      <td>165958</td>\n",
       "      <td>848643</td>\n",
       "      <td>164478</td>\n",
       "      <td>135132</td>\n",
       "      <td>349847</td>\n",
       "      <td>116988</td>\n",
       "      <td>41726</td>\n",
       "      <td>111377</td>\n",
       "      <td>10634</td>\n",
       "      <td>5456</td>\n",
       "      <td>293066</td>\n",
       "      <td>69411</td>\n",
       "      <td>15462</td>\n",
       "      <td>1478993</td>\n",
       "      <td>450948</td>\n",
       "    </tr>\n",
       "    <tr>\n",
       "      <th>80+</th>\n",
       "      <td>103</td>\n",
       "      <td>2181</td>\n",
       "      <td>6835</td>\n",
       "      <td>18418</td>\n",
       "      <td>41959</td>\n",
       "      <td>11763</td>\n",
       "      <td>525</td>\n",
       "      <td>16636</td>\n",
       "      <td>84231</td>\n",
       "      <td>16207</td>\n",
       "      <td>13157</td>\n",
       "      <td>36176</td>\n",
       "      <td>11382</td>\n",
       "      <td>4111</td>\n",
       "      <td>11291</td>\n",
       "      <td>1130</td>\n",
       "      <td>579</td>\n",
       "      <td>29224</td>\n",
       "      <td>6965</td>\n",
       "      <td>1402</td>\n",
       "      <td>149468</td>\n",
       "      <td>46087</td>\n",
       "    </tr>\n",
       "  </tbody>\n",
       "</table>\n",
       "</div>"
      ],
      "text/plain": [
       "department_type  MISSING DATA  alcohol  babies  bakery  beverages  breakfast  \\\n",
       "age_groups                                                                     \n",
       "18-20                      98     8852   20557   54233     122809      33887   \n",
       "21-30                     355    23547   66414  185082     420077     111998   \n",
       "31-40                     314    24851   65792  183691     414383     110662   \n",
       "41-50                     407    24138   69771  185608     422968     112339   \n",
       "51-60                     282    23789   64244  184254     424912     111203   \n",
       "61-70                     285    22927   65326  180793     415269     107860   \n",
       "71-80                     185    23458   64863  184708     425782     110935   \n",
       "80+                       103     2181    6835   18418      41959      11763   \n",
       "\n",
       "department_type  bulk  canned goods  dairy eggs    deli  dry goods pasta  \\\n",
       "age_groups                                                                 \n",
       "18-20            1648         50237      254881   49052            40840   \n",
       "21-30            5518        169690      849619  164346           137567   \n",
       "31-40            5342        166296      853586  164900           134023   \n",
       "41-50            5604        166517      855715  164870           134949   \n",
       "51-60            5170        167489      835038  163690           137123   \n",
       "61-70            5401        165235      832303  163706           133836   \n",
       "71-80            5365        165958      848643  164478           135132   \n",
       "80+               525         16636       84231   16207            13157   \n",
       "\n",
       "department_type  frozen  household  international  meat seafood  missing  \\\n",
       "age_groups                                                                 \n",
       "18-20            106218      35426          12995         33665     3649   \n",
       "21-30            348632     114351          42422        110329    10960   \n",
       "31-40            346793     114733          42560        109731    10594   \n",
       "41-50            349481     115954          42408        111415    11045   \n",
       "51-60            350560     115319          41929        110243    10721   \n",
       "61-70            348725     114513          41102        110880    10412   \n",
       "71-80            349847     116988          41726        111377    10634   \n",
       "80+               36176      11382           4111         11291     1130   \n",
       "\n",
       "department_type  other  pantry  personal care   pets  produce  snacks  \n",
       "age_groups                                                             \n",
       "18-20             1946   88243          21476   5159   444498  134093  \n",
       "21-30             5793  292749          69804  15451  1480396  456391  \n",
       "31-40             5479  291574          69109  14641  1492122  454154  \n",
       "41-50             5656  296098          71066  15317  1488008  447636  \n",
       "51-60             5715  294554          70977  15022  1477648  455260  \n",
       "61-70             5667  290069          68883  15270  1468158  442981  \n",
       "71-80             5456  293066          69411  15462  1478993  450948  \n",
       "80+                579   29224           6965   1402   149468   46087  "
      ]
     },
     "execution_count": 60,
     "metadata": {},
     "output_type": "execute_result"
    }
   ],
   "source": [
    "crosstab_age_department_type"
   ]
  },
  {
   "cell_type": "markdown",
   "id": "9490e7fd",
   "metadata": {},
   "source": [
    "##### NOTE: We can profile customers and what they shop for by using these diagnostics. For example, take baby products bought by 21-30-year-olds, this information gives us key insight into who is a young parent vs who isn't. Another example would be looking at who buys the most of each product and then we can start advertising towards that demographic."
   ]
  },
  {
   "cell_type": "code",
   "execution_count": 61,
   "id": "a1fd5d64",
   "metadata": {},
   "outputs": [],
   "source": [
    "# Creating a Crosstab between Age and Marital Status type\n",
    "crosstab_age_marital_status = pd.crosstab(db_merge['age_groups'], db_merge['Marital Status'], dropna = False)"
   ]
  },
  {
   "cell_type": "code",
   "execution_count": 62,
   "id": "5dbcf70f",
   "metadata": {},
   "outputs": [
    {
     "data": {
      "text/html": [
       "<div>\n",
       "<style scoped>\n",
       "    .dataframe tbody tr th:only-of-type {\n",
       "        vertical-align: middle;\n",
       "    }\n",
       "\n",
       "    .dataframe tbody tr th {\n",
       "        vertical-align: top;\n",
       "    }\n",
       "\n",
       "    .dataframe thead th {\n",
       "        text-align: right;\n",
       "    }\n",
       "</style>\n",
       "<table border=\"1\" class=\"dataframe\">\n",
       "  <thead>\n",
       "    <tr style=\"text-align: right;\">\n",
       "      <th>Marital Status</th>\n",
       "      <th>divorced/widowed</th>\n",
       "      <th>living with parents and siblings</th>\n",
       "      <th>married</th>\n",
       "      <th>single</th>\n",
       "    </tr>\n",
       "    <tr>\n",
       "      <th>age_groups</th>\n",
       "      <th></th>\n",
       "      <th></th>\n",
       "      <th></th>\n",
       "      <th></th>\n",
       "    </tr>\n",
       "  </thead>\n",
       "  <tbody>\n",
       "    <tr>\n",
       "      <th>18-20</th>\n",
       "      <td>0</td>\n",
       "      <td>1162288</td>\n",
       "      <td>0</td>\n",
       "      <td>362174</td>\n",
       "    </tr>\n",
       "    <tr>\n",
       "      <th>21-30</th>\n",
       "      <td>0</td>\n",
       "      <td>389965</td>\n",
       "      <td>3407672</td>\n",
       "      <td>1283854</td>\n",
       "    </tr>\n",
       "    <tr>\n",
       "      <th>31-40</th>\n",
       "      <td>0</td>\n",
       "      <td>0</td>\n",
       "      <td>3811973</td>\n",
       "      <td>1263357</td>\n",
       "    </tr>\n",
       "    <tr>\n",
       "      <th>41-50</th>\n",
       "      <td>0</td>\n",
       "      <td>0</td>\n",
       "      <td>3842570</td>\n",
       "      <td>1254400</td>\n",
       "    </tr>\n",
       "    <tr>\n",
       "      <th>51-60</th>\n",
       "      <td>117289</td>\n",
       "      <td>0</td>\n",
       "      <td>3780510</td>\n",
       "      <td>1167343</td>\n",
       "    </tr>\n",
       "    <tr>\n",
       "      <th>61-70</th>\n",
       "      <td>1269100</td>\n",
       "      <td>0</td>\n",
       "      <td>3740501</td>\n",
       "      <td>0</td>\n",
       "    </tr>\n",
       "    <tr>\n",
       "      <th>71-80</th>\n",
       "      <td>1243373</td>\n",
       "      <td>0</td>\n",
       "      <td>3830042</td>\n",
       "      <td>0</td>\n",
       "    </tr>\n",
       "    <tr>\n",
       "      <th>80+</th>\n",
       "      <td>144811</td>\n",
       "      <td>0</td>\n",
       "      <td>365019</td>\n",
       "      <td>0</td>\n",
       "    </tr>\n",
       "  </tbody>\n",
       "</table>\n",
       "</div>"
      ],
      "text/plain": [
       "Marital Status  divorced/widowed  living with parents and siblings  married  \\\n",
       "age_groups                                                                    \n",
       "18-20                          0                           1162288        0   \n",
       "21-30                          0                            389965  3407672   \n",
       "31-40                          0                                 0  3811973   \n",
       "41-50                          0                                 0  3842570   \n",
       "51-60                     117289                                 0  3780510   \n",
       "61-70                    1269100                                 0  3740501   \n",
       "71-80                    1243373                                 0  3830042   \n",
       "80+                       144811                                 0   365019   \n",
       "\n",
       "Marital Status   single  \n",
       "age_groups               \n",
       "18-20            362174  \n",
       "21-30           1283854  \n",
       "31-40           1263357  \n",
       "41-50           1254400  \n",
       "51-60           1167343  \n",
       "61-70                 0  \n",
       "71-80                 0  \n",
       "80+                   0  "
      ]
     },
     "execution_count": 62,
     "metadata": {},
     "output_type": "execute_result"
    }
   ],
   "source": [
    "crosstab_age_marital_status"
   ]
  },
  {
   "cell_type": "markdown",
   "id": "eb82fa09",
   "metadata": {},
   "source": [
    "##### NOTE: There are some interesting findings here. We now know that there are no divorced/widowed couples who use Instacart's services between the age ranges of 18-50. While at the same time no one lives with parents and siblings between the age ranges 31-80+. There are also no single people who use Instacart's service between 61-80+. This helps to identify who we need to market for by breaking down marital status. For example, Instacart shouldn't create an advertisement towards single 80-year-olds as it wouldn't be effective."
   ]
  },
  {
   "cell_type": "code",
   "execution_count": 63,
   "id": "298c4420",
   "metadata": {},
   "outputs": [],
   "source": [
    "# Creating a Crosstab between Age and day ordered\n",
    "crosstab_age_day_ordered = pd.crosstab(db_merge['age_groups'], db_merge['day_ordered'], dropna = False)"
   ]
  },
  {
   "cell_type": "code",
   "execution_count": 64,
   "id": "98183ab3",
   "metadata": {},
   "outputs": [
    {
     "data": {
      "text/html": [
       "<div>\n",
       "<style scoped>\n",
       "    .dataframe tbody tr th:only-of-type {\n",
       "        vertical-align: middle;\n",
       "    }\n",
       "\n",
       "    .dataframe tbody tr th {\n",
       "        vertical-align: top;\n",
       "    }\n",
       "\n",
       "    .dataframe thead th {\n",
       "        text-align: right;\n",
       "    }\n",
       "</style>\n",
       "<table border=\"1\" class=\"dataframe\">\n",
       "  <thead>\n",
       "    <tr style=\"text-align: right;\">\n",
       "      <th>day_ordered</th>\n",
       "      <th>Friday</th>\n",
       "      <th>Monday</th>\n",
       "      <th>Saturday</th>\n",
       "      <th>Sunday</th>\n",
       "      <th>Thursday</th>\n",
       "      <th>Tuesday</th>\n",
       "      <th>Wednesday</th>\n",
       "    </tr>\n",
       "    <tr>\n",
       "      <th>age_groups</th>\n",
       "      <th></th>\n",
       "      <th></th>\n",
       "      <th></th>\n",
       "      <th></th>\n",
       "      <th></th>\n",
       "      <th></th>\n",
       "      <th></th>\n",
       "    </tr>\n",
       "  </thead>\n",
       "  <tbody>\n",
       "    <tr>\n",
       "      <th>18-20</th>\n",
       "      <td>212085</td>\n",
       "      <td>195281</td>\n",
       "      <td>289257</td>\n",
       "      <td>268040</td>\n",
       "      <td>199823</td>\n",
       "      <td>181148</td>\n",
       "      <td>178828</td>\n",
       "    </tr>\n",
       "    <tr>\n",
       "      <th>21-30</th>\n",
       "      <td>704546</td>\n",
       "      <td>660158</td>\n",
       "      <td>979531</td>\n",
       "      <td>891728</td>\n",
       "      <td>658948</td>\n",
       "      <td>594841</td>\n",
       "      <td>591739</td>\n",
       "    </tr>\n",
       "    <tr>\n",
       "      <th>31-40</th>\n",
       "      <td>688953</td>\n",
       "      <td>654530</td>\n",
       "      <td>978075</td>\n",
       "      <td>897224</td>\n",
       "      <td>656250</td>\n",
       "      <td>602924</td>\n",
       "      <td>597374</td>\n",
       "    </tr>\n",
       "    <tr>\n",
       "      <th>41-50</th>\n",
       "      <td>712836</td>\n",
       "      <td>667905</td>\n",
       "      <td>971503</td>\n",
       "      <td>883547</td>\n",
       "      <td>659638</td>\n",
       "      <td>604185</td>\n",
       "      <td>597356</td>\n",
       "    </tr>\n",
       "    <tr>\n",
       "      <th>51-60</th>\n",
       "      <td>704221</td>\n",
       "      <td>663947</td>\n",
       "      <td>967212</td>\n",
       "      <td>886202</td>\n",
       "      <td>658192</td>\n",
       "      <td>597588</td>\n",
       "      <td>587780</td>\n",
       "    </tr>\n",
       "    <tr>\n",
       "      <th>61-70</th>\n",
       "      <td>699073</td>\n",
       "      <td>652839</td>\n",
       "      <td>948179</td>\n",
       "      <td>872810</td>\n",
       "      <td>650550</td>\n",
       "      <td>599368</td>\n",
       "      <td>586782</td>\n",
       "    </tr>\n",
       "    <tr>\n",
       "      <th>71-80</th>\n",
       "      <td>706861</td>\n",
       "      <td>656384</td>\n",
       "      <td>979547</td>\n",
       "      <td>879282</td>\n",
       "      <td>658002</td>\n",
       "      <td>604722</td>\n",
       "      <td>588617</td>\n",
       "    </tr>\n",
       "    <tr>\n",
       "      <th>80+</th>\n",
       "      <td>71961</td>\n",
       "      <td>66980</td>\n",
       "      <td>96726</td>\n",
       "      <td>87344</td>\n",
       "      <td>68315</td>\n",
       "      <td>59566</td>\n",
       "      <td>58938</td>\n",
       "    </tr>\n",
       "  </tbody>\n",
       "</table>\n",
       "</div>"
      ],
      "text/plain": [
       "day_ordered  Friday  Monday  Saturday  Sunday  Thursday  Tuesday  Wednesday\n",
       "age_groups                                                                 \n",
       "18-20        212085  195281    289257  268040    199823   181148     178828\n",
       "21-30        704546  660158    979531  891728    658948   594841     591739\n",
       "31-40        688953  654530    978075  897224    656250   602924     597374\n",
       "41-50        712836  667905    971503  883547    659638   604185     597356\n",
       "51-60        704221  663947    967212  886202    658192   597588     587780\n",
       "61-70        699073  652839    948179  872810    650550   599368     586782\n",
       "71-80        706861  656384    979547  879282    658002   604722     588617\n",
       "80+           71961   66980     96726   87344     68315    59566      58938"
      ]
     },
     "execution_count": 64,
     "metadata": {},
     "output_type": "execute_result"
    }
   ],
   "source": [
    "crosstab_age_day_ordered"
   ]
  },
  {
   "cell_type": "markdown",
   "id": "e61708bd",
   "metadata": {},
   "source": [
    "##### NOTE: Saturday is the most optimal day to utilize Instacart's services for all ages. If the marketing team wanted to advertise properly, I'd recommend they push more advertisements on Friday and Saturday to remind people they need to order groceries. Otherwise, there isn't much of a correlation between age ranges and what day they order."
   ]
  },
  {
   "cell_type": "markdown",
   "id": "f7332cf9",
   "metadata": {},
   "source": [
    "#### Question 5.8: Final Thoughts\n",
    "##### To figure out more demographical information you can run multiple crosstabs to understand the demographics to advertise too. All the required information is put together and just needs to be run. Ultimately, I broke down some key demographic elements within the Instacart system."
   ]
  },
  {
   "cell_type": "markdown",
   "id": "d4b103ad",
   "metadata": {},
   "source": [
    "### Question 6. Create an appropriate visualization to show the distribution of profiles."
   ]
  },
  {
   "cell_type": "code",
   "execution_count": 65,
   "id": "f89a3bae",
   "metadata": {},
   "outputs": [
    {
     "data": {
      "image/png": "[encoded data removed]",
      "text/plain": [
       "<Figure size 432x288 with 1 Axes>"
      ]
     },
     "metadata": {
      "needs_background": "light"
     },
     "output_type": "display_data"
    }
   ],
   "source": [
    "# Bar chart representing ages\n",
    "bar_age = db_merge['age_groups'].value_counts().sort_index().plot.bar(color = sns.color_palette('RdYlGn_r', 8))"
   ]
  },
  {
   "cell_type": "code",
   "execution_count": 66,
   "id": "d28f6266",
   "metadata": {},
   "outputs": [
    {
     "data": {
      "image/png": "[encoded data removed]",
      "text/plain": [
       "<Figure size 432x288 with 1 Axes>"
      ]
     },
     "metadata": {
      "needs_background": "light"
     },
     "output_type": "display_data"
    }
   ],
   "source": [
    "# Bar chart representing income\n",
    "bar_income = db_merge['income_groups'].value_counts().sort_index().plot.bar(color = sns.color_palette('RdYlGn_r', 9))\n",
    "plt.tight_layout()"
   ]
  },
  {
   "cell_type": "code",
   "execution_count": 67,
   "id": "11fa5ed6",
   "metadata": {},
   "outputs": [
    {
     "data": {
      "image/png": "[encoded data removed]",
      "text/plain": [
       "<Figure size 432x288 with 1 Axes>"
      ]
     },
     "metadata": {
      "needs_background": "light"
     },
     "output_type": "display_data"
    }
   ],
   "source": [
    "# Bar Chart representing parental status by age\n",
    "bar_age_parental_status = crosstab_age_perental_status.plot(kind = 'bar', stacked = True, color = ('seagreen', 'coral'))"
   ]
  },
  {
   "cell_type": "code",
   "execution_count": 68,
   "id": "9c5c59d1",
   "metadata": {},
   "outputs": [
    {
     "data": {
      "image/png": "[encoded data removed]",
      "text/plain": [
       "<Figure size 432x288 with 1 Axes>"
      ]
     },
     "metadata": {
      "needs_background": "light"
     },
     "output_type": "display_data"
    }
   ],
   "source": [
    "# Bar Chart representing income groups by age\n",
    "bar_age_income = crosstab_age_income.plot (kind='bar', stacked = True, color = (sns.color_palette('RdYlGn_r', 9)))"
   ]
  },
  {
   "cell_type": "code",
   "execution_count": 159,
   "id": "7d3bdac4",
   "metadata": {},
   "outputs": [
    {
     "data": {
      "text/plain": [
       "Text(0, 0.5, '')"
      ]
     },
     "execution_count": 159,
     "metadata": {},
     "output_type": "execute_result"
    },
    {
     "data": {
      "image/png": "[encoded data removed]",
      "text/plain": [
       "<Figure size 432x288 with 1 Axes>"
      ]
     },
     "metadata": {},
     "output_type": "display_data"
    }
   ],
   "source": [
    "# Pie Chart representing marital status\n",
    "pie_marital_status = db_merge['Marital Status'].value_counts().sort_index().plot(kind = 'pie', autopct='%1.1f%%',\n",
    "                                                    colors = sns.color_palette('YlGn_r',4),   \n",
    "                                                    title = 'Marital Status')\n",
    "plt.ylabel('')"
   ]
  },
  {
   "cell_type": "code",
   "execution_count": 170,
   "id": "6a361490",
   "metadata": {},
   "outputs": [
    {
     "data": {
      "text/plain": [
       "Text(0, 0.5, '')"
      ]
     },
     "execution_count": 170,
     "metadata": {},
     "output_type": "execute_result"
    },
    {
     "data": {
      "image/png": "[encoded data removed]",
      "text/plain": [
       "<Figure size 432x288 with 1 Axes>"
      ]
     },
     "metadata": {},
     "output_type": "display_data"
    }
   ],
   "source": [
    "# Pie Chart representing parential status\n",
    "pie_parental_status = db_merge['parental_status'].value_counts().sort_index().plot(kind = 'pie', autopct='%1.1f%%',\n",
    "                                                    colors = sns.color_palette('YlGn_r',2),   \n",
    "                                                    title = 'Parental Status')\n",
    "plt.ylabel('')"
   ]
  },
  {
   "cell_type": "code",
   "execution_count": 71,
   "id": "e1ccad6b",
   "metadata": {},
   "outputs": [
    {
     "data": {
      "image/png": "[encoded data removed]",
      "text/plain": [
       "<Figure size 432x288 with 1 Axes>"
      ]
     },
     "metadata": {
      "needs_background": "light"
     },
     "output_type": "display_data"
    }
   ],
   "source": [
    "# Bar Chart representing order dates by age\n",
    "bar_age_order_date = crosstab_age_day_ordered.sort_index().plot (kind='bar', stacked = True, color = (sns.color_palette('jet_r', 7)))"
   ]
  },
  {
   "cell_type": "code",
   "execution_count": 156,
   "id": "30f862ce",
   "metadata": {},
   "outputs": [
    {
     "data": {
      "text/plain": [
       "Text(0.5, 0, 'hour of the day')"
      ]
     },
     "execution_count": 156,
     "metadata": {},
     "output_type": "execute_result"
    },
    {
     "data": {
      "image/png": "[encoded data removed]",
      "text/plain": [
       "<Figure size 432x288 with 1 Axes>"
      ]
     },
     "metadata": {
      "needs_background": "light"
     },
     "output_type": "display_data"
    }
   ],
   "source": [
    "# Bar chart to show busiest hours\n",
    "bar_busiest_hour = db_merge['order_hour_of_day'].value_counts().sort_index().plot.bar()\n",
    "plt.title('Busiest Hours')\n",
    "plt.ylabel('frequency of order')\n",
    "plt.xlabel('hour of the day')"
   ]
  },
  {
   "cell_type": "code",
   "execution_count": 73,
   "id": "2325fa5e",
   "metadata": {},
   "outputs": [
    {
     "data": {
      "text/plain": [
       "Text(0.5, 0, 'day of the week')"
      ]
     },
     "execution_count": 73,
     "metadata": {},
     "output_type": "execute_result"
    },
    {
     "data": {
      "image/png": "[encoded data removed]",
      "text/plain": [
       "<Figure size 432x288 with 1 Axes>"
      ]
     },
     "metadata": {
      "needs_background": "light"
     },
     "output_type": "display_data"
    }
   ],
   "source": [
    "# Bar chart to show busiest days\n",
    "bar_busiest_days = db_merge['order_day_of_week'].value_counts().sort_index().plot.bar()\n",
    "plt.title('Busiest Days')\n",
    "plt.ylabel('frequency of order')\n",
    "plt.xlabel('day of the week')"
   ]
  },
  {
   "cell_type": "code",
   "execution_count": 152,
   "id": "db0f7708",
   "metadata": {},
   "outputs": [
    {
     "data": {
      "image/png": "[encoded data removed]",
      "text/plain": [
       "<Figure size 432x288 with 1 Axes>"
      ]
     },
     "metadata": {},
     "output_type": "display_data"
    }
   ],
   "source": [
    "# Pie chart of loyality customers\n",
    "loyalty_pie = db_merge['loyalty_flag'].value_counts().sort_index().plot.pie(autopct='%1.1f%%', colors = sns.color_palette('Greens_r',3))\n",
    "plt.ylabel('')\n",
    "plt.tight_layout()"
   ]
  },
  {
   "cell_type": "code",
   "execution_count": 75,
   "id": "58c6a357",
   "metadata": {},
   "outputs": [],
   "source": [
    "# Creating a Crosstab between loyality customer and Income_groups ordered\n",
    "crosstab_loyalty_income = pd.crosstab(db_merge['income_groups'], db_merge['loyalty_flag'], dropna = False)"
   ]
  },
  {
   "cell_type": "code",
   "execution_count": 153,
   "id": "508a39fe",
   "metadata": {},
   "outputs": [
    {
     "data": {
      "text/plain": [
       "Text(0.5, -55.125, 'Income')"
      ]
     },
     "execution_count": 153,
     "metadata": {},
     "output_type": "execute_result"
    },
    {
     "data": {
      "image/png": "[encoded data removed]",
      "text/plain": [
       "<Figure size 432x288 with 1 Axes>"
      ]
     },
     "metadata": {
      "needs_background": "light"
     },
     "output_type": "display_data"
    }
   ],
   "source": [
    "# Stacked bar chart displaying crosstab_loyality_income\n",
    "bar_loyalty_income = crosstab_loyalty_income.plot(kind = 'bar', stacked = True, color = sns.color_palette('Greens_r',3))\n",
    "plt.tight_layout()\n",
    "plt.title('Loyal customers and level of Income')\n",
    "plt.ylabel('Usage of Service')\n",
    "plt.xlabel('Income')\n"
   ]
  },
  {
   "cell_type": "code",
   "execution_count": 77,
   "id": "07bc8ffa",
   "metadata": {
    "scrolled": true
   },
   "outputs": [
    {
     "data": {
      "text/plain": [
       "Text(0.5, 0, 'Regions')"
      ]
     },
     "execution_count": 77,
     "metadata": {},
     "output_type": "execute_result"
    },
    {
     "data": {
      "image/png": "[encoded data removed]",
      "text/plain": [
       "<Figure size 432x288 with 1 Axes>"
      ]
     },
     "metadata": {
      "needs_background": "light"
     },
     "output_type": "display_data"
    }
   ],
   "source": [
    "# Bar chart to show regions\n",
    "bar_region = db_merge['region'].value_counts().sort_index().plot.bar()\n",
    "plt.title('Number of Regions')\n",
    "plt.ylabel('frequency of Regions')\n",
    "plt.xlabel('Regions')"
   ]
  },
  {
   "cell_type": "code",
   "execution_count": 161,
   "id": "9a183194",
   "metadata": {},
   "outputs": [
    {
     "data": {
      "text/plain": [
       "Text(0.5, 0, 'Department')"
      ]
     },
     "execution_count": 161,
     "metadata": {},
     "output_type": "execute_result"
    },
    {
     "data": {
      "image/png": "[encoded data removed]",
      "text/plain": [
       "<Figure size 432x288 with 1 Axes>"
      ]
     },
     "metadata": {
      "needs_background": "light"
     },
     "output_type": "display_data"
    }
   ],
   "source": [
    "# Bar chart to show department products\n",
    "bar_products_department = db_merge['department_type'].value_counts().plot.bar()\n",
    "plt.title('Department Orders')\n",
    "plt.ylabel('Number of Orders')\n",
    "plt.xlabel('Department')"
   ]
  },
  {
   "cell_type": "code",
   "execution_count": 178,
   "id": "6877ba97",
   "metadata": {},
   "outputs": [
    {
     "data": {
      "text/html": [
       "<div>\n",
       "<style scoped>\n",
       "    .dataframe tbody tr th:only-of-type {\n",
       "        vertical-align: middle;\n",
       "    }\n",
       "\n",
       "    .dataframe tbody tr th {\n",
       "        vertical-align: top;\n",
       "    }\n",
       "\n",
       "    .dataframe thead th {\n",
       "        text-align: right;\n",
       "    }\n",
       "</style>\n",
       "<table border=\"1\" class=\"dataframe\">\n",
       "  <thead>\n",
       "    <tr style=\"text-align: right;\">\n",
       "      <th></th>\n",
       "      <th>order_id</th>\n",
       "      <th>user_id</th>\n",
       "      <th>order_number</th>\n",
       "      <th>order_day_of_week</th>\n",
       "      <th>order_hour_of_day</th>\n",
       "      <th>days_since_prior_order</th>\n",
       "      <th>product_id</th>\n",
       "      <th>add_to_cart_order</th>\n",
       "      <th>reordered</th>\n",
       "      <th>product_name</th>\n",
       "      <th>aisle_id</th>\n",
       "      <th>department_id</th>\n",
       "      <th>prices</th>\n",
       "      <th>_merge</th>\n",
       "      <th>busist_day</th>\n",
       "      <th>price_range</th>\n",
       "      <th>busiest_day</th>\n",
       "      <th>busiest_period_of_day</th>\n",
       "    </tr>\n",
       "  </thead>\n",
       "  <tbody>\n",
       "    <tr>\n",
       "      <th>0</th>\n",
       "      <td>2539329</td>\n",
       "      <td>1</td>\n",
       "      <td>1</td>\n",
       "      <td>2</td>\n",
       "      <td>8</td>\n",
       "      <td>NaN</td>\n",
       "      <td>196</td>\n",
       "      <td>1</td>\n",
       "      <td>0</td>\n",
       "      <td>Soda</td>\n",
       "      <td>77.0</td>\n",
       "      <td>7.0</td>\n",
       "      <td>9.0</td>\n",
       "      <td>both</td>\n",
       "      <td>Regularly busy</td>\n",
       "      <td>mid_range product</td>\n",
       "      <td>Regularly busy</td>\n",
       "      <td>Average orders</td>\n",
       "    </tr>\n",
       "    <tr>\n",
       "      <th>1</th>\n",
       "      <td>2539329</td>\n",
       "      <td>1</td>\n",
       "      <td>1</td>\n",
       "      <td>2</td>\n",
       "      <td>8</td>\n",
       "      <td>NaN</td>\n",
       "      <td>14084</td>\n",
       "      <td>2</td>\n",
       "      <td>0</td>\n",
       "      <td>Organic Unsweetened Vanilla Almond Milk</td>\n",
       "      <td>91.0</td>\n",
       "      <td>16.0</td>\n",
       "      <td>12.5</td>\n",
       "      <td>both</td>\n",
       "      <td>Regularly busy</td>\n",
       "      <td>mid_range product</td>\n",
       "      <td>Regularly busy</td>\n",
       "      <td>Average orders</td>\n",
       "    </tr>\n",
       "  </tbody>\n",
       "</table>\n",
       "</div>"
      ],
      "text/plain": [
       "   order_id  user_id  order_number  order_day_of_week  order_hour_of_day  \\\n",
       "0   2539329        1             1                  2                  8   \n",
       "1   2539329        1             1                  2                  8   \n",
       "\n",
       "   days_since_prior_order  product_id  add_to_cart_order  reordered  \\\n",
       "0                     NaN         196                  1          0   \n",
       "1                     NaN       14084                  2          0   \n",
       "\n",
       "                              product_name  aisle_id  department_id  prices  \\\n",
       "0                                     Soda      77.0            7.0     9.0   \n",
       "1  Organic Unsweetened Vanilla Almond Milk      91.0           16.0    12.5   \n",
       "\n",
       "  _merge      busist_day        price_range     busiest_day  \\\n",
       "0   both  Regularly busy  mid_range product  Regularly busy   \n",
       "1   both  Regularly busy  mid_range product  Regularly busy   \n",
       "\n",
       "  busiest_period_of_day  \n",
       "0        Average orders  \n",
       "1        Average orders  "
      ]
     },
     "execution_count": 178,
     "metadata": {},
     "output_type": "execute_result"
    }
   ],
   "source": [
    "# Checking head of price_range\n",
    "df_price_range.head(2)"
   ]
  },
  {
   "cell_type": "code",
   "execution_count": 176,
   "id": "2d2b24ab",
   "metadata": {},
   "outputs": [],
   "source": [
    "# Dropping Not enough data from price_range data\n",
    "df_price_range.drop(df_price_range[df_price_range['price_range'] == 'Not enough data'].index, inplace = True)"
   ]
  },
  {
   "cell_type": "code",
   "execution_count": 177,
   "id": "8769b8cf",
   "metadata": {
    "scrolled": true
   },
   "outputs": [
    {
     "data": {
      "text/plain": [
       "Text(0, 0.5, '')"
      ]
     },
     "execution_count": 177,
     "metadata": {},
     "output_type": "execute_result"
    },
    {
     "data": {
      "image/png": "[encoded data removed]",
      "text/plain": [
       "<Figure size 432x288 with 1 Axes>"
      ]
     },
     "metadata": {},
     "output_type": "display_data"
    }
   ],
   "source": [
    "# Pie Chart representing price ranges\n",
    "pie_price_ranges = df_price_range['price_range'].value_counts().sort_index().plot(kind = 'pie', autopct='%1.1f%%',\n",
    "                                                    colors = sns.color_palette('Blues_r',3),   \n",
    "                                                    title = 'Price Ranges')\n",
    "plt.ylabel('')"
   ]
  },
  {
   "cell_type": "code",
   "execution_count": 180,
   "id": "4916c3df",
   "metadata": {},
   "outputs": [],
   "source": [
    "# Creating condtion for deparment types with department_id for df_price_range\n",
    "\n",
    "department_type = []\n",
    "\n",
    "for value in df_price_range['department_id']:\n",
    "    if (value == 1): \n",
    "        department_type.append('frozen')\n",
    "    elif (value == 2):\n",
    "        department_type.append('other')\n",
    "    elif (value == 3):\n",
    "        department_type.append('bakery')\n",
    "    elif (value == 4):\n",
    "        department_type.append('produce')\n",
    "    elif (value == 5):\n",
    "        department_type.append('alcohol')\n",
    "    elif (value == 6):\n",
    "        department_type.append('international')\n",
    "    elif (value == 7):\n",
    "        department_type.append('beverages')\n",
    "    elif (value == 8):\n",
    "        department_type.append('pets')\n",
    "    elif (value == 9):\n",
    "        department_type.append('dry goods pasta')\n",
    "    elif (value == 10):\n",
    "        department_type.append('bulk')\n",
    "    elif (value == 11):\n",
    "        department_type.append('personal care')\n",
    "    elif (value == 12):\n",
    "        department_type.append('meat seafood')\n",
    "    elif (value == 13):\n",
    "        department_type.append('pantry')\n",
    "    elif (value == 14):\n",
    "        department_type.append('breakfast')\n",
    "    elif (value == 15):\n",
    "        department_type.append('canned goods')\n",
    "    elif (value == 16):\n",
    "        department_type.append('dairy eggs')\n",
    "    elif (value == 17):\n",
    "        department_type.append('household')\n",
    "    elif (value == 18):\n",
    "        department_type.append('babies')\n",
    "    elif (value == 19):\n",
    "        department_type.append('snacks')\n",
    "    elif (value == 20):\n",
    "        department_type.append('deli')\n",
    "    elif (value == 21):\n",
    "        department_type.append('missing')\n",
    "    else: \n",
    "        department_type.append('MISSING DATA')"
   ]
  },
  {
   "cell_type": "code",
   "execution_count": 181,
   "id": "d276eb28",
   "metadata": {},
   "outputs": [],
   "source": [
    "# Applying condition to database\n",
    "df_price_range['department_type'] = department_type"
   ]
  },
  {
   "cell_type": "code",
   "execution_count": 184,
   "id": "cfec7e97",
   "metadata": {},
   "outputs": [],
   "source": [
    "# creating crosstabs between price_range and department\n",
    "crosstab_price_range_deptartment = pd.crosstab(df_price_range['department_type'], df_price_range['price_range'], dropna = False)\n"
   ]
  },
  {
   "cell_type": "code",
   "execution_count": 186,
   "id": "889f6834",
   "metadata": {
    "scrolled": true
   },
   "outputs": [
    {
     "data": {
      "image/png": "[encoded data removed]",
      "text/plain": [
       "<Figure size 432x288 with 1 Axes>"
      ]
     },
     "metadata": {
      "needs_background": "light"
     },
     "output_type": "display_data"
    }
   ],
   "source": [
    "# Stacked bar chart displaying crosstab_loyality_department\n",
    "bar_price_ranges = crosstab_price_range_deptartment.plot(kind = 'bar', stacked = True, color = sns.color_palette('Blues_r',3))\n",
    "plt.title('Price Range by Department')\n",
    "plt.ylabel('frequency')\n",
    "plt.xlabel('department')\n",
    "plt.tight_layout()"
   ]
  },
  {
   "cell_type": "code",
   "execution_count": 187,
   "id": "78a7a704",
   "metadata": {},
   "outputs": [
    {
     "data": {
      "image/png": "[encoded data removed]",
      "text/plain": [
       "<Figure size 432x288 with 1 Axes>"
      ]
     },
     "metadata": {
      "needs_background": "light"
     },
     "output_type": "display_data"
    }
   ],
   "source": [
    "bar_price_ranges_100 = crosstab_price_range_deptartment.apply(lambda r: r/r.sum()*100, axis=1).plot(kind = 'bar', stacked = True, color = sns.color_palette('Blues_r',3))\n",
    "plt.title('Price Range by Department 100%')\n",
    "plt.ylabel('frequency')\n",
    "plt.xlabel('department')\n",
    "plt.tight_layout()"
   ]
  },
  {
   "cell_type": "markdown",
   "id": "0aaebc27",
   "metadata": {},
   "source": [
    "### Question 7. Aggregate the max, mean, and min variables on a customer-profile level for usage frequency and expenditure."
   ]
  },
  {
   "cell_type": "code",
   "execution_count": 79,
   "id": "657a009b",
   "metadata": {},
   "outputs": [
    {
     "data": {
      "text/html": [
       "<div>\n",
       "<style scoped>\n",
       "    .dataframe tbody tr th:only-of-type {\n",
       "        vertical-align: middle;\n",
       "    }\n",
       "\n",
       "    .dataframe tbody tr th {\n",
       "        vertical-align: top;\n",
       "    }\n",
       "\n",
       "    .dataframe thead tr th {\n",
       "        text-align: left;\n",
       "    }\n",
       "\n",
       "    .dataframe thead tr:last-of-type th {\n",
       "        text-align: right;\n",
       "    }\n",
       "</style>\n",
       "<table border=\"1\" class=\"dataframe\">\n",
       "  <thead>\n",
       "    <tr>\n",
       "      <th></th>\n",
       "      <th colspan=\"3\" halign=\"left\">prices</th>\n",
       "    </tr>\n",
       "    <tr>\n",
       "      <th></th>\n",
       "      <th>mean</th>\n",
       "      <th>min</th>\n",
       "      <th>max</th>\n",
       "    </tr>\n",
       "    <tr>\n",
       "      <th>income_groups</th>\n",
       "      <th></th>\n",
       "      <th></th>\n",
       "      <th></th>\n",
       "    </tr>\n",
       "  </thead>\n",
       "  <tbody>\n",
       "    <tr>\n",
       "      <th>000000-050000</th>\n",
       "      <td>6.702746</td>\n",
       "      <td>1.0</td>\n",
       "      <td>25.0</td>\n",
       "    </tr>\n",
       "    <tr>\n",
       "      <th>050000-100000</th>\n",
       "      <td>7.898732</td>\n",
       "      <td>1.0</td>\n",
       "      <td>25.0</td>\n",
       "    </tr>\n",
       "    <tr>\n",
       "      <th>100000-150000</th>\n",
       "      <td>7.968182</td>\n",
       "      <td>1.0</td>\n",
       "      <td>25.0</td>\n",
       "    </tr>\n",
       "    <tr>\n",
       "      <th>150000-200000</th>\n",
       "      <td>7.963105</td>\n",
       "      <td>1.0</td>\n",
       "      <td>25.0</td>\n",
       "    </tr>\n",
       "    <tr>\n",
       "      <th>200000-250000</th>\n",
       "      <td>7.781932</td>\n",
       "      <td>1.0</td>\n",
       "      <td>25.0</td>\n",
       "    </tr>\n",
       "    <tr>\n",
       "      <th>250000-300000</th>\n",
       "      <td>7.808058</td>\n",
       "      <td>1.0</td>\n",
       "      <td>25.0</td>\n",
       "    </tr>\n",
       "    <tr>\n",
       "      <th>300000-350000</th>\n",
       "      <td>7.771003</td>\n",
       "      <td>1.0</td>\n",
       "      <td>25.0</td>\n",
       "    </tr>\n",
       "    <tr>\n",
       "      <th>350000-400000</th>\n",
       "      <td>7.767629</td>\n",
       "      <td>1.0</td>\n",
       "      <td>25.0</td>\n",
       "    </tr>\n",
       "    <tr>\n",
       "      <th>400000+</th>\n",
       "      <td>7.740390</td>\n",
       "      <td>1.0</td>\n",
       "      <td>25.0</td>\n",
       "    </tr>\n",
       "  </tbody>\n",
       "</table>\n",
       "</div>"
      ],
      "text/plain": [
       "                 prices           \n",
       "                   mean  min   max\n",
       "income_groups                     \n",
       "000000-050000  6.702746  1.0  25.0\n",
       "050000-100000  7.898732  1.0  25.0\n",
       "100000-150000  7.968182  1.0  25.0\n",
       "150000-200000  7.963105  1.0  25.0\n",
       "200000-250000  7.781932  1.0  25.0\n",
       "250000-300000  7.808058  1.0  25.0\n",
       "300000-350000  7.771003  1.0  25.0\n",
       "350000-400000  7.767629  1.0  25.0\n",
       "400000+        7.740390  1.0  25.0"
      ]
     },
     "execution_count": 79,
     "metadata": {},
     "output_type": "execute_result"
    }
   ],
   "source": [
    "# Expenditure by income \n",
    "db_merge.groupby('income_groups').agg({'prices': ['mean', 'min', 'max']})"
   ]
  },
  {
   "cell_type": "code",
   "execution_count": 80,
   "id": "8ea3dfcb",
   "metadata": {},
   "outputs": [
    {
     "data": {
      "text/html": [
       "<div>\n",
       "<style scoped>\n",
       "    .dataframe tbody tr th:only-of-type {\n",
       "        vertical-align: middle;\n",
       "    }\n",
       "\n",
       "    .dataframe tbody tr th {\n",
       "        vertical-align: top;\n",
       "    }\n",
       "\n",
       "    .dataframe thead tr th {\n",
       "        text-align: left;\n",
       "    }\n",
       "\n",
       "    .dataframe thead tr:last-of-type th {\n",
       "        text-align: right;\n",
       "    }\n",
       "</style>\n",
       "<table border=\"1\" class=\"dataframe\">\n",
       "  <thead>\n",
       "    <tr>\n",
       "      <th></th>\n",
       "      <th colspan=\"3\" halign=\"left\">prices</th>\n",
       "    </tr>\n",
       "    <tr>\n",
       "      <th></th>\n",
       "      <th>mean</th>\n",
       "      <th>min</th>\n",
       "      <th>max</th>\n",
       "    </tr>\n",
       "    <tr>\n",
       "      <th>age_groups</th>\n",
       "      <th></th>\n",
       "      <th></th>\n",
       "      <th></th>\n",
       "    </tr>\n",
       "  </thead>\n",
       "  <tbody>\n",
       "    <tr>\n",
       "      <th>18-20</th>\n",
       "      <td>7.800415</td>\n",
       "      <td>1.0</td>\n",
       "      <td>25.0</td>\n",
       "    </tr>\n",
       "    <tr>\n",
       "      <th>21-30</th>\n",
       "      <td>7.783241</td>\n",
       "      <td>1.0</td>\n",
       "      <td>25.0</td>\n",
       "    </tr>\n",
       "    <tr>\n",
       "      <th>31-40</th>\n",
       "      <td>7.796449</td>\n",
       "      <td>1.0</td>\n",
       "      <td>25.0</td>\n",
       "    </tr>\n",
       "    <tr>\n",
       "      <th>41-50</th>\n",
       "      <td>7.804943</td>\n",
       "      <td>1.0</td>\n",
       "      <td>25.0</td>\n",
       "    </tr>\n",
       "    <tr>\n",
       "      <th>51-60</th>\n",
       "      <td>7.786307</td>\n",
       "      <td>1.0</td>\n",
       "      <td>25.0</td>\n",
       "    </tr>\n",
       "    <tr>\n",
       "      <th>61-70</th>\n",
       "      <td>7.804320</td>\n",
       "      <td>1.0</td>\n",
       "      <td>25.0</td>\n",
       "    </tr>\n",
       "    <tr>\n",
       "      <th>71-80</th>\n",
       "      <td>7.796461</td>\n",
       "      <td>1.0</td>\n",
       "      <td>25.0</td>\n",
       "    </tr>\n",
       "    <tr>\n",
       "      <th>80+</th>\n",
       "      <td>7.807234</td>\n",
       "      <td>1.0</td>\n",
       "      <td>25.0</td>\n",
       "    </tr>\n",
       "  </tbody>\n",
       "</table>\n",
       "</div>"
      ],
      "text/plain": [
       "              prices           \n",
       "                mean  min   max\n",
       "age_groups                     \n",
       "18-20       7.800415  1.0  25.0\n",
       "21-30       7.783241  1.0  25.0\n",
       "31-40       7.796449  1.0  25.0\n",
       "41-50       7.804943  1.0  25.0\n",
       "51-60       7.786307  1.0  25.0\n",
       "61-70       7.804320  1.0  25.0\n",
       "71-80       7.796461  1.0  25.0\n",
       "80+         7.807234  1.0  25.0"
      ]
     },
     "execution_count": 80,
     "metadata": {},
     "output_type": "execute_result"
    }
   ],
   "source": [
    "# Expenditure by Age\n",
    "db_merge.groupby('age_groups').agg({'prices': ['mean', 'min', 'max']})"
   ]
  },
  {
   "cell_type": "code",
   "execution_count": 81,
   "id": "957c458e",
   "metadata": {},
   "outputs": [
    {
     "data": {
      "text/html": [
       "<div>\n",
       "<style scoped>\n",
       "    .dataframe tbody tr th:only-of-type {\n",
       "        vertical-align: middle;\n",
       "    }\n",
       "\n",
       "    .dataframe tbody tr th {\n",
       "        vertical-align: top;\n",
       "    }\n",
       "\n",
       "    .dataframe thead tr th {\n",
       "        text-align: left;\n",
       "    }\n",
       "\n",
       "    .dataframe thead tr:last-of-type th {\n",
       "        text-align: right;\n",
       "    }\n",
       "</style>\n",
       "<table border=\"1\" class=\"dataframe\">\n",
       "  <thead>\n",
       "    <tr>\n",
       "      <th></th>\n",
       "      <th colspan=\"3\" halign=\"left\">prices</th>\n",
       "    </tr>\n",
       "    <tr>\n",
       "      <th></th>\n",
       "      <th>mean</th>\n",
       "      <th>min</th>\n",
       "      <th>max</th>\n",
       "    </tr>\n",
       "    <tr>\n",
       "      <th>parental_status</th>\n",
       "      <th></th>\n",
       "      <th></th>\n",
       "      <th></th>\n",
       "    </tr>\n",
       "  </thead>\n",
       "  <tbody>\n",
       "    <tr>\n",
       "      <th>not a parent</th>\n",
       "      <td>7.794896</td>\n",
       "      <td>1.0</td>\n",
       "      <td>25.0</td>\n",
       "    </tr>\n",
       "    <tr>\n",
       "      <th>parent</th>\n",
       "      <td>7.795974</td>\n",
       "      <td>1.0</td>\n",
       "      <td>25.0</td>\n",
       "    </tr>\n",
       "  </tbody>\n",
       "</table>\n",
       "</div>"
      ],
      "text/plain": [
       "                   prices           \n",
       "                     mean  min   max\n",
       "parental_status                     \n",
       "not a parent     7.794896  1.0  25.0\n",
       "parent           7.795974  1.0  25.0"
      ]
     },
     "execution_count": 81,
     "metadata": {},
     "output_type": "execute_result"
    }
   ],
   "source": [
    "# Expenditure by Parental status\n",
    "db_merge.groupby('parental_status').agg({'prices': ['mean', 'min', 'max']})"
   ]
  },
  {
   "cell_type": "code",
   "execution_count": 82,
   "id": "c7554125",
   "metadata": {},
   "outputs": [
    {
     "data": {
      "text/html": [
       "<div>\n",
       "<style scoped>\n",
       "    .dataframe tbody tr th:only-of-type {\n",
       "        vertical-align: middle;\n",
       "    }\n",
       "\n",
       "    .dataframe tbody tr th {\n",
       "        vertical-align: top;\n",
       "    }\n",
       "\n",
       "    .dataframe thead tr th {\n",
       "        text-align: left;\n",
       "    }\n",
       "\n",
       "    .dataframe thead tr:last-of-type th {\n",
       "        text-align: right;\n",
       "    }\n",
       "</style>\n",
       "<table border=\"1\" class=\"dataframe\">\n",
       "  <thead>\n",
       "    <tr>\n",
       "      <th></th>\n",
       "      <th colspan=\"3\" halign=\"left\">prices</th>\n",
       "    </tr>\n",
       "    <tr>\n",
       "      <th></th>\n",
       "      <th>mean</th>\n",
       "      <th>min</th>\n",
       "      <th>max</th>\n",
       "    </tr>\n",
       "    <tr>\n",
       "      <th>region</th>\n",
       "      <th></th>\n",
       "      <th></th>\n",
       "      <th></th>\n",
       "    </tr>\n",
       "  </thead>\n",
       "  <tbody>\n",
       "    <tr>\n",
       "      <th>Midwest</th>\n",
       "      <td>7.797045</td>\n",
       "      <td>1.0</td>\n",
       "      <td>25.0</td>\n",
       "    </tr>\n",
       "    <tr>\n",
       "      <th>Northeast</th>\n",
       "      <td>7.787506</td>\n",
       "      <td>1.0</td>\n",
       "      <td>25.0</td>\n",
       "    </tr>\n",
       "    <tr>\n",
       "      <th>South</th>\n",
       "      <td>7.799574</td>\n",
       "      <td>1.0</td>\n",
       "      <td>25.0</td>\n",
       "    </tr>\n",
       "    <tr>\n",
       "      <th>West</th>\n",
       "      <td>7.795099</td>\n",
       "      <td>1.0</td>\n",
       "      <td>25.0</td>\n",
       "    </tr>\n",
       "  </tbody>\n",
       "</table>\n",
       "</div>"
      ],
      "text/plain": [
       "             prices           \n",
       "               mean  min   max\n",
       "region                        \n",
       "Midwest    7.797045  1.0  25.0\n",
       "Northeast  7.787506  1.0  25.0\n",
       "South      7.799574  1.0  25.0\n",
       "West       7.795099  1.0  25.0"
      ]
     },
     "execution_count": 82,
     "metadata": {},
     "output_type": "execute_result"
    }
   ],
   "source": [
    "# Expenditure by region\n",
    "db_merge.groupby('region').agg({'prices': ['mean', 'min', 'max']})"
   ]
  },
  {
   "cell_type": "code",
   "execution_count": 83,
   "id": "213bcb81",
   "metadata": {},
   "outputs": [
    {
     "data": {
      "text/html": [
       "<div>\n",
       "<style scoped>\n",
       "    .dataframe tbody tr th:only-of-type {\n",
       "        vertical-align: middle;\n",
       "    }\n",
       "\n",
       "    .dataframe tbody tr th {\n",
       "        vertical-align: top;\n",
       "    }\n",
       "\n",
       "    .dataframe thead tr th {\n",
       "        text-align: left;\n",
       "    }\n",
       "\n",
       "    .dataframe thead tr:last-of-type th {\n",
       "        text-align: right;\n",
       "    }\n",
       "</style>\n",
       "<table border=\"1\" class=\"dataframe\">\n",
       "  <thead>\n",
       "    <tr>\n",
       "      <th></th>\n",
       "      <th colspan=\"3\" halign=\"left\">prices</th>\n",
       "    </tr>\n",
       "    <tr>\n",
       "      <th></th>\n",
       "      <th>mean</th>\n",
       "      <th>min</th>\n",
       "      <th>max</th>\n",
       "    </tr>\n",
       "    <tr>\n",
       "      <th>Marital Status</th>\n",
       "      <th></th>\n",
       "      <th></th>\n",
       "      <th></th>\n",
       "    </tr>\n",
       "  </thead>\n",
       "  <tbody>\n",
       "    <tr>\n",
       "      <th>divorced/widowed</th>\n",
       "      <td>7.805965</td>\n",
       "      <td>1.0</td>\n",
       "      <td>25.0</td>\n",
       "    </tr>\n",
       "    <tr>\n",
       "      <th>living with parents and siblings</th>\n",
       "      <td>7.805889</td>\n",
       "      <td>1.0</td>\n",
       "      <td>25.0</td>\n",
       "    </tr>\n",
       "    <tr>\n",
       "      <th>married</th>\n",
       "      <td>7.795298</td>\n",
       "      <td>1.0</td>\n",
       "      <td>25.0</td>\n",
       "    </tr>\n",
       "    <tr>\n",
       "      <th>single</th>\n",
       "      <td>7.789136</td>\n",
       "      <td>1.0</td>\n",
       "      <td>25.0</td>\n",
       "    </tr>\n",
       "  </tbody>\n",
       "</table>\n",
       "</div>"
      ],
      "text/plain": [
       "                                    prices           \n",
       "                                      mean  min   max\n",
       "Marital Status                                       \n",
       "divorced/widowed                  7.805965  1.0  25.0\n",
       "living with parents and siblings  7.805889  1.0  25.0\n",
       "married                           7.795298  1.0  25.0\n",
       "single                            7.789136  1.0  25.0"
      ]
     },
     "execution_count": 83,
     "metadata": {},
     "output_type": "execute_result"
    }
   ],
   "source": [
    "# Expenditure by marital status\n",
    "db_merge.groupby('Marital Status').agg({'prices': ['mean', 'min', 'max']})"
   ]
  },
  {
   "cell_type": "markdown",
   "id": "2c97cad3",
   "metadata": {},
   "source": [
    "### Question 8. Compare your customer profiles with regions and departments. Can you identify a link between them? Customers may demonstrate different behaviors across regions, which could make this information important."
   ]
  },
  {
   "cell_type": "markdown",
   "id": "5bb75f5b",
   "metadata": {},
   "source": [
    "#### Question 8.1: Loyality status\n",
    "##### Ordering Habits"
   ]
  },
  {
   "cell_type": "code",
   "execution_count": 84,
   "id": "0636d01c",
   "metadata": {},
   "outputs": [],
   "source": [
    "# Ordering habits based on a customer's loyalty status?\n",
    "crosstab_loyalty_deptartment = pd.crosstab(db_merge['department_type'], db_merge['loyalty_flag'], dropna = False)"
   ]
  },
  {
   "cell_type": "code",
   "execution_count": 129,
   "id": "31e98080",
   "metadata": {},
   "outputs": [
    {
     "data": {
      "image/png": "[encoded data removed]",
      "text/plain": [
       "<Figure size 432x288 with 1 Axes>"
      ]
     },
     "metadata": {
      "needs_background": "light"
     },
     "output_type": "display_data"
    }
   ],
   "source": [
    "# Stacked bar chart displaying crosstab_loyality_department\n",
    "bar_loyalty_deptartment = crosstab_loyalty_deptartment.plot(kind = 'bar', stacked = True, color = sns.color_palette('Greens_r',3))\n",
    "plt.title('Loyalty Customer by Department')\n",
    "plt.ylabel('frequency')\n",
    "plt.xlabel('department')\n",
    "plt.tight_layout()"
   ]
  },
  {
   "cell_type": "code",
   "execution_count": 86,
   "id": "3fba6789",
   "metadata": {},
   "outputs": [],
   "source": [
    "# Export bar chart\n",
    "bar_loyalty_deptartment.figure.savefig(os.path.join(path, '04 Analysis','Visualizations', 'bar_loyalty_by_department.png'))\n"
   ]
  },
  {
   "cell_type": "code",
   "execution_count": 130,
   "id": "26af7a26",
   "metadata": {},
   "outputs": [
    {
     "data": {
      "image/png": "[encoded data removed]",
      "text/plain": [
       "<Figure size 432x288 with 1 Axes>"
      ]
     },
     "metadata": {
      "needs_background": "light"
     },
     "output_type": "display_data"
    }
   ],
   "source": [
    "# Stacked bar chart displaying crosstab_loyality_department maxed by 100 % \n",
    "bar_loyalty_department_100 = crosstab_loyalty_deptartment.apply(lambda r: r/r.sum()*100, axis=1).plot(kind = 'bar', stacked = True, color = sns.color_palette('Greens_r',3))\n",
    "plt.title('Loyalty Customer by Department 100%')\n",
    "plt.ylabel('frequency')\n",
    "plt.xlabel('department')\n",
    "plt.tight_layout()"
   ]
  },
  {
   "cell_type": "code",
   "execution_count": 88,
   "id": "0f35901f",
   "metadata": {},
   "outputs": [],
   "source": [
    "# Export 100% bar chart\n",
    "bar_loyalty_department_100.figure.savefig(os.path.join(path, '04 Analysis','Visualizations', 'bar_loyalty_by_department_100.png'))\n"
   ]
  },
  {
   "cell_type": "markdown",
   "id": "f134f4fb",
   "metadata": {},
   "source": [
    "##### Region"
   ]
  },
  {
   "cell_type": "code",
   "execution_count": 89,
   "id": "006725e3",
   "metadata": {},
   "outputs": [],
   "source": [
    "# Region based on a customer's loyalty status?\n",
    "crosstab_loyalty_region = pd.crosstab(db_merge['region'], db_merge['loyalty_flag'], dropna = False)"
   ]
  },
  {
   "cell_type": "code",
   "execution_count": 131,
   "id": "c27c49c9",
   "metadata": {},
   "outputs": [
    {
     "data": {
      "image/png": "[encoded data removed]",
      "text/plain": [
       "<Figure size 432x288 with 1 Axes>"
      ]
     },
     "metadata": {
      "needs_background": "light"
     },
     "output_type": "display_data"
    }
   ],
   "source": [
    "# Stacked bar chart displaying crosstab_loyalty_region\n",
    "bar_loyalty_region = crosstab_loyalty_region.plot(kind = 'bar', stacked = True, color = sns.color_palette('Greens_r',3))\n",
    "plt.title('Loyalty Customer by Region')\n",
    "plt.ylabel('frequency')\n",
    "plt.xlabel('US regions')\n",
    "plt.tight_layout()"
   ]
  },
  {
   "cell_type": "code",
   "execution_count": 91,
   "id": "070611a6",
   "metadata": {},
   "outputs": [],
   "source": [
    "# Export bar chart\n",
    "bar_loyalty_region.figure.savefig(os.path.join(path, '04 Analysis','Visualizations', 'bar_loyalty_by_region.png'))\n"
   ]
  },
  {
   "cell_type": "markdown",
   "id": "0cdc07ae",
   "metadata": {},
   "source": [
    "#### Question 8.2: Region and Ordering Habits"
   ]
  },
  {
   "cell_type": "code",
   "execution_count": 92,
   "id": "548a254c",
   "metadata": {},
   "outputs": [],
   "source": [
    "# Ordering habits based on Regions?\n",
    "crosstab_Region_deptartment = pd.crosstab(db_merge['department_type'], db_merge['region'], dropna = False)"
   ]
  },
  {
   "cell_type": "code",
   "execution_count": 132,
   "id": "a6d7b9b0",
   "metadata": {},
   "outputs": [
    {
     "data": {
      "image/png": "[encoded data removed]",
      "text/plain": [
       "<Figure size 432x288 with 1 Axes>"
      ]
     },
     "metadata": {
      "needs_background": "light"
     },
     "output_type": "display_data"
    }
   ],
   "source": [
    "# Stacked bar chart displaying crosstab_Region_deptartment\n",
    "bar_region_deptartment = crosstab_Region_deptartment.plot(kind = 'bar', stacked = True, color = sns.color_palette('Greens_r',4))\n",
    "plt.title('Regions by Department')\n",
    "plt.ylabel('frequency')\n",
    "plt.xlabel('department')\n",
    "plt.tight_layout()"
   ]
  },
  {
   "cell_type": "code",
   "execution_count": 94,
   "id": "e7b5b3a5",
   "metadata": {},
   "outputs": [],
   "source": [
    "# Export bar chart\n",
    "bar_region_deptartment.figure.savefig(os.path.join(path, '04 Analysis','Visualizations', 'bar_department_by_region.png'))\n"
   ]
  },
  {
   "cell_type": "code",
   "execution_count": 133,
   "id": "c71fe9ec",
   "metadata": {},
   "outputs": [
    {
     "data": {
      "image/png": "[encoded data removed]",
      "text/plain": [
       "<Figure size 432x288 with 1 Axes>"
      ]
     },
     "metadata": {
      "needs_background": "light"
     },
     "output_type": "display_data"
    }
   ],
   "source": [
    "# Stacked bar chart displaying crosstab_Region_deptartment maxed by 100 % \n",
    "bar_region_department_100 = crosstab_Region_deptartment.apply(lambda r: r/r.sum()*100, axis=1).plot(kind = 'bar', stacked = True, color = sns.color_palette('Greens_r',4))\n",
    "plt.title('Regions by Department 100%')\n",
    "plt.ylabel('frequency')\n",
    "plt.xlabel('department')\n",
    "plt.tight_layout()"
   ]
  },
  {
   "cell_type": "code",
   "execution_count": 96,
   "id": "42fe3854",
   "metadata": {},
   "outputs": [],
   "source": [
    "# Export 100% bar chart\n",
    "bar_region_department_100.figure.savefig(os.path.join(path, '04 Analysis','Visualizations', 'bar_department_by_region_100.png'))\n"
   ]
  },
  {
   "cell_type": "markdown",
   "id": "8e76a364",
   "metadata": {},
   "source": [
    "#### Question 8.3: Parental Status\n",
    "##### Ordering Habits"
   ]
  },
  {
   "cell_type": "code",
   "execution_count": 97,
   "id": "f5678ad2",
   "metadata": {},
   "outputs": [],
   "source": [
    "# Parental Status based on Department?\n",
    "crosstab_parental_department = pd.crosstab(db_merge['department_type'], db_merge['parental_status'], dropna = False)"
   ]
  },
  {
   "cell_type": "code",
   "execution_count": 134,
   "id": "42c5c0b6",
   "metadata": {},
   "outputs": [
    {
     "data": {
      "image/png": "[encoded data removed]",
      "text/plain": [
       "<Figure size 432x288 with 1 Axes>"
      ]
     },
     "metadata": {
      "needs_background": "light"
     },
     "output_type": "display_data"
    }
   ],
   "source": [
    "# Stacked bar chart \n",
    "bar_parental_status_department = crosstab_parental_department.plot(kind = 'bar', stacked = True, color = sns.color_palette('Greens_r',2))\n",
    "plt.title('Parental Status by Department')\n",
    "plt.ylabel('frequency')\n",
    "plt.xlabel('department')\n",
    "plt.tight_layout()"
   ]
  },
  {
   "cell_type": "code",
   "execution_count": 99,
   "id": "f072a0d3",
   "metadata": {},
   "outputs": [],
   "source": [
    "# Export bar chart\n",
    "bar_parental_status_department.figure.savefig(os.path.join(path, '04 Analysis','Visualizations', 'bar_parental_status_by_department.png'))\n"
   ]
  },
  {
   "cell_type": "code",
   "execution_count": 135,
   "id": "b84aa2f5",
   "metadata": {},
   "outputs": [
    {
     "data": {
      "image/png": "[encoded data removed]",
      "text/plain": [
       "<Figure size 432x288 with 1 Axes>"
      ]
     },
     "metadata": {
      "needs_background": "light"
     },
     "output_type": "display_data"
    }
   ],
   "source": [
    "# Stacked bar chart displaying crosstab_parental_department maxed by 100 % \n",
    "bar_parental_status_department_100 = crosstab_parental_department.apply(lambda r: r/r.sum()*100, axis=1).plot(kind = 'bar', stacked = True, color = sns.color_palette('Greens_r',2))\n",
    "plt.title('Parental Status by Department 100%')\n",
    "plt.ylabel('frequency')\n",
    "plt.xlabel('department')\n",
    "plt.tight_layout()"
   ]
  },
  {
   "cell_type": "code",
   "execution_count": 123,
   "id": "211d2d60",
   "metadata": {},
   "outputs": [],
   "source": [
    "# Export 100% bar chart\n",
    "bar_parental_status_department_100.figure.savefig(os.path.join(path, '04 Analysis','Visualizations', 'bar_parental_status_by_department_100.png'))\n"
   ]
  },
  {
   "cell_type": "markdown",
   "id": "04cf42e0",
   "metadata": {},
   "source": [
    "##### Region"
   ]
  },
  {
   "cell_type": "code",
   "execution_count": 100,
   "id": "989d63df",
   "metadata": {},
   "outputs": [],
   "source": [
    "# Parental Status based on Regions?\n",
    "crosstab_parental_region = pd.crosstab(db_merge['parental_status'], db_merge['region'], dropna = False)"
   ]
  },
  {
   "cell_type": "code",
   "execution_count": 138,
   "id": "2278797c",
   "metadata": {
    "scrolled": true
   },
   "outputs": [
    {
     "data": {
      "text/plain": [
       "Text(0.5, 0, 'parental status')"
      ]
     },
     "execution_count": 138,
     "metadata": {},
     "output_type": "execute_result"
    },
    {
     "data": {
      "image/png": "[encoded data removed]",
      "text/plain": [
       "<Figure size 432x288 with 1 Axes>"
      ]
     },
     "metadata": {
      "needs_background": "light"
     },
     "output_type": "display_data"
    }
   ],
   "source": [
    "# Stacked bar chart \n",
    "bar_parental_status_region = crosstab_parental_region.plot(kind = 'bar', stacked = True, color = sns.color_palette('Greens_r', 4))\n",
    "plt.title('Parental Status by Region')\n",
    "plt.ylabel('frequency')\n",
    "plt.xlabel('parental status')\n"
   ]
  },
  {
   "cell_type": "code",
   "execution_count": 102,
   "id": "4360a4ca",
   "metadata": {},
   "outputs": [],
   "source": [
    "# Export bar chart\n",
    "bar_parental_status_region.figure.savefig(os.path.join(path, '04 Analysis','Visualizations', 'bar_parental_status_by_region.png'))\n"
   ]
  },
  {
   "cell_type": "markdown",
   "id": "915e39e4",
   "metadata": {},
   "source": [
    "#### Question 8.4: Age\n",
    "##### Ordering Habits"
   ]
  },
  {
   "cell_type": "code",
   "execution_count": 103,
   "id": "cd15ecdf",
   "metadata": {},
   "outputs": [],
   "source": [
    "# Age Groups based on Department?\n",
    "crosstab_age_groups_department = pd.crosstab(db_merge['department_type'], db_merge['age_groups'], dropna = False)"
   ]
  },
  {
   "cell_type": "code",
   "execution_count": 139,
   "id": "3aea68f7",
   "metadata": {},
   "outputs": [
    {
     "data": {
      "image/png": "[encoded data removed]",
      "text/plain": [
       "<Figure size 432x288 with 1 Axes>"
      ]
     },
     "metadata": {
      "needs_background": "light"
     },
     "output_type": "display_data"
    }
   ],
   "source": [
    "# Stacked bar chart \n",
    "bar_age_groups_department = crosstab_age_groups_department.plot(kind = 'bar', stacked = True, color = sns.color_palette('YlGn_r', 8))\n",
    "plt.title('Age Groups by department')\n",
    "plt.ylabel('frequency')\n",
    "plt.xlabel('department')\n",
    "plt.tight_layout()"
   ]
  },
  {
   "cell_type": "code",
   "execution_count": 105,
   "id": "9d12d295",
   "metadata": {},
   "outputs": [],
   "source": [
    "# Export bar chart\n",
    "bar_age_groups_department.figure.savefig(os.path.join(path, '04 Analysis','Visualizations', 'bar_age_groups_by_department.png'))\n"
   ]
  },
  {
   "cell_type": "code",
   "execution_count": 160,
   "id": "415fbe6a",
   "metadata": {},
   "outputs": [
    {
     "data": {
      "image/png": "[encoded data removed]",
      "text/plain": [
       "<Figure size 432x288 with 1 Axes>"
      ]
     },
     "metadata": {
      "needs_background": "light"
     },
     "output_type": "display_data"
    }
   ],
   "source": [
    "# Stacked bar chart displaying crosstab_age_groups_department maxed by 100 % \n",
    "bar_age_groups_department_100 = crosstab_age_groups_department.apply(lambda r: r/r.sum()*100, axis=1).plot(kind = 'bar', stacked = True, color = sns.color_palette('YlGn_r', 8))\n",
    "plt.title('Age by Department 100%')\n",
    "plt.ylabel('frequency')\n",
    "plt.xlabel('department')\n",
    "plt.tight_layout()"
   ]
  },
  {
   "cell_type": "markdown",
   "id": "93c95a65",
   "metadata": {},
   "source": [
    "##### Region"
   ]
  },
  {
   "cell_type": "code",
   "execution_count": 106,
   "id": "6b2436f4",
   "metadata": {},
   "outputs": [],
   "source": [
    "# Age Groups based on Region?\n",
    "crosstab_age_groups_region = pd.crosstab(db_merge['region'], db_merge['age_groups'], dropna = False)"
   ]
  },
  {
   "cell_type": "code",
   "execution_count": 142,
   "id": "94a4812a",
   "metadata": {},
   "outputs": [
    {
     "data": {
      "text/plain": [
       "Text(0.5, 0, 'region')"
      ]
     },
     "execution_count": 142,
     "metadata": {},
     "output_type": "execute_result"
    },
    {
     "data": {
      "image/png": "[encoded data removed]",
      "text/plain": [
       "<Figure size 432x288 with 1 Axes>"
      ]
     },
     "metadata": {
      "needs_background": "light"
     },
     "output_type": "display_data"
    }
   ],
   "source": [
    "# Stacked bar chart \n",
    "bar_age_groups_region = crosstab_age_groups_region.plot(kind = 'bar', stacked = True, color = sns.color_palette('YlGn_r', 8))\n",
    "plt.title('Parental Status by Region')\n",
    "plt.ylabel('frequency')\n",
    "plt.xlabel('region')"
   ]
  },
  {
   "cell_type": "code",
   "execution_count": 108,
   "id": "f766a8d0",
   "metadata": {},
   "outputs": [],
   "source": [
    "# Export bar chart\n",
    "bar_age_groups_region.figure.savefig(os.path.join(path, '04 Analysis','Visualizations', 'bar_age_groups_by_region.png'))\n"
   ]
  },
  {
   "cell_type": "markdown",
   "id": "f115b3d8",
   "metadata": {},
   "source": [
    "#### Question 8.5: Marital Status\n",
    "##### Ordering Habits"
   ]
  },
  {
   "cell_type": "code",
   "execution_count": 109,
   "id": "bd93cd90",
   "metadata": {},
   "outputs": [],
   "source": [
    "# Marital Status based on Department?\n",
    "crosstab_marriage_by_department = pd.crosstab(db_merge['department_type'], db_merge['Marital Status'], dropna = False)"
   ]
  },
  {
   "cell_type": "code",
   "execution_count": 143,
   "id": "59fa0f24",
   "metadata": {},
   "outputs": [
    {
     "data": {
      "image/png": "[encoded data removed]",
      "text/plain": [
       "<Figure size 432x288 with 1 Axes>"
      ]
     },
     "metadata": {
      "needs_background": "light"
     },
     "output_type": "display_data"
    }
   ],
   "source": [
    "# Stacked bar chart \n",
    "bar_marriage_by_department = crosstab_marriage_by_department.plot(kind = 'bar', stacked = True, color = sns.color_palette('Greens_r',4))\n",
    "plt.title('Marital Status by Department')\n",
    "plt.ylabel('frequency')\n",
    "plt.xlabel('department')\n",
    "plt.tight_layout()"
   ]
  },
  {
   "cell_type": "code",
   "execution_count": 111,
   "id": "b56c06c7",
   "metadata": {},
   "outputs": [],
   "source": [
    "# Export bar chart\n",
    "bar_marriage_by_department.figure.savefig(os.path.join(path, '04 Analysis','Visualizations', 'bar_marital_status_by_department.png'))\n"
   ]
  },
  {
   "cell_type": "code",
   "execution_count": 144,
   "id": "1df30ce2",
   "metadata": {},
   "outputs": [
    {
     "data": {
      "image/png": "[encoded data removed]",
      "text/plain": [
       "<Figure size 432x288 with 1 Axes>"
      ]
     },
     "metadata": {
      "needs_background": "light"
     },
     "output_type": "display_data"
    }
   ],
   "source": [
    "# Stacked bar chart displaying crosstab_marriage_department maxed by 100 % \n",
    "bar_marriage_by_department_100 = crosstab_marriage_by_department.apply(lambda r: r/r.sum()*100, axis=1).plot(kind = 'bar', stacked = True, color = sns.color_palette('Greens_r',4))\n",
    "plt.title('Marital Status by Department 100%')\n",
    "plt.ylabel('frequency')\n",
    "plt.xlabel('department')\n",
    "plt.tight_layout()"
   ]
  },
  {
   "cell_type": "code",
   "execution_count": 125,
   "id": "53b10713",
   "metadata": {},
   "outputs": [],
   "source": [
    "# Export 100% bar chart\n",
    "bar_marriage_by_department_100.figure.savefig(os.path.join(path, '04 Analysis','Visualizations', 'bar_Marital_Status_by_department_100.png'))\n"
   ]
  },
  {
   "cell_type": "markdown",
   "id": "1a34d232",
   "metadata": {},
   "source": [
    "##### Region"
   ]
  },
  {
   "cell_type": "code",
   "execution_count": 112,
   "id": "eb1ef6c4",
   "metadata": {},
   "outputs": [],
   "source": [
    "# Marital Status based on Region?\n",
    "crosstab_marriage_by_region = pd.crosstab(db_merge['region'], db_merge['Marital Status'], dropna = False)"
   ]
  },
  {
   "cell_type": "code",
   "execution_count": 145,
   "id": "4810aaa4",
   "metadata": {},
   "outputs": [
    {
     "data": {
      "image/png": "[encoded data removed]",
      "text/plain": [
       "<Figure size 432x288 with 1 Axes>"
      ]
     },
     "metadata": {
      "needs_background": "light"
     },
     "output_type": "display_data"
    }
   ],
   "source": [
    "# Stacked bar chart \n",
    "bar_marriage_by_region = crosstab_marriage_by_region.plot(kind = 'bar', stacked = True, color = sns.color_palette('Greens_r',4))\n",
    "plt.title('Marital Status by Region')\n",
    "plt.ylabel('frequency')\n",
    "plt.xlabel('region')\n",
    "plt.tight_layout()"
   ]
  },
  {
   "cell_type": "code",
   "execution_count": 114,
   "id": "94e1956a",
   "metadata": {},
   "outputs": [],
   "source": [
    "# Export bar chart\n",
    "bar_marriage_by_region.figure.savefig(os.path.join(path, '04 Analysis','Visualizations', 'bar_marital_status_by_region.png'))\n"
   ]
  },
  {
   "cell_type": "markdown",
   "id": "196af410",
   "metadata": {},
   "source": [
    "#### Question 8.6 Income\n",
    "##### Ordering Habits"
   ]
  },
  {
   "cell_type": "code",
   "execution_count": 115,
   "id": "04a9d081",
   "metadata": {},
   "outputs": [],
   "source": [
    "# Income based on Department?\n",
    "crosstab_Income_by_department = pd.crosstab(db_merge['department_type'], db_merge['income_groups'], dropna = False)"
   ]
  },
  {
   "cell_type": "code",
   "execution_count": 147,
   "id": "d0d27ee4",
   "metadata": {},
   "outputs": [
    {
     "data": {
      "image/png": "[encoded data removed]",
      "text/plain": [
       "<Figure size 432x288 with 1 Axes>"
      ]
     },
     "metadata": {
      "needs_background": "light"
     },
     "output_type": "display_data"
    }
   ],
   "source": [
    "# Stacked bar chart \n",
    "bar_income_by_department = crosstab_Income_by_department.plot(kind = 'bar', stacked = True, color = sns.color_palette('YlGn_r',9))\n",
    "plt.title('Income Spending by Department')\n",
    "plt.ylabel('frequency')\n",
    "plt.xlabel('department')\n",
    "plt.tight_layout()"
   ]
  },
  {
   "cell_type": "code",
   "execution_count": 117,
   "id": "847180c3",
   "metadata": {},
   "outputs": [],
   "source": [
    "# Export bar chart\n",
    "bar_income_by_department.figure.savefig(os.path.join(path, '04 Analysis','Visualizations', 'bar_income_by_department.png'))\n"
   ]
  },
  {
   "cell_type": "code",
   "execution_count": 148,
   "id": "3e6a8fcf",
   "metadata": {
    "scrolled": true
   },
   "outputs": [
    {
     "data": {
      "image/png": "[encoded data removed]",
      "text/plain": [
       "<Figure size 432x288 with 1 Axes>"
      ]
     },
     "metadata": {
      "needs_background": "light"
     },
     "output_type": "display_data"
    }
   ],
   "source": [
    "# Stacked bar chart displaying crosstab_income_department maxed by 100 % \n",
    "bar_income_by_department_100 = crosstab_Income_by_department.apply(lambda r: r/r.sum()*100, axis=1).plot(kind = 'bar', stacked = True, color = sns.color_palette('YlGn_r',9))\n",
    "plt.title('Income Spending by Department 100%')\n",
    "plt.ylabel('frequency')\n",
    "plt.xlabel('department')\n",
    "plt.tight_layout()"
   ]
  },
  {
   "cell_type": "code",
   "execution_count": 127,
   "id": "fd1ce790",
   "metadata": {},
   "outputs": [],
   "source": [
    "# Export bar chart\n",
    "bar_income_by_department_100.figure.savefig(os.path.join(path, '04 Analysis','Visualizations', 'bar_income_by_department_100.png'))\n"
   ]
  },
  {
   "cell_type": "markdown",
   "id": "176f732e",
   "metadata": {},
   "source": [
    "##### Region"
   ]
  },
  {
   "cell_type": "code",
   "execution_count": 118,
   "id": "86752d29",
   "metadata": {},
   "outputs": [],
   "source": [
    "# Income based on Region?\n",
    "crosstab_income_by_region = pd.crosstab(db_merge['region'], db_merge['income_groups'], dropna = False)"
   ]
  },
  {
   "cell_type": "code",
   "execution_count": 150,
   "id": "b968f693",
   "metadata": {},
   "outputs": [
    {
     "data": {
      "image/png": "[encoded data removed]",
      "text/plain": [
       "<Figure size 432x288 with 1 Axes>"
      ]
     },
     "metadata": {
      "needs_background": "light"
     },
     "output_type": "display_data"
    }
   ],
   "source": [
    "# Stacked bar chart \n",
    "bar_income_by_region = crosstab_income_by_region.plot(kind = 'bar', stacked = True, color = sns.color_palette('YlGn_r',9))\n",
    "plt.title('Income by Region')\n",
    "plt.ylabel('frequency')\n",
    "plt.xlabel('region')\n",
    "plt.tight_layout()"
   ]
  },
  {
   "cell_type": "code",
   "execution_count": 120,
   "id": "bb116af6",
   "metadata": {},
   "outputs": [],
   "source": [
    "# Export bar chart\n",
    "bar_income_by_region.figure.savefig(os.path.join(path, '04 Analysis','Visualizations', 'bar_income_by_region.png'))\n"
   ]
  },
  {
   "cell_type": "code",
   "execution_count": null,
   "id": "8050b356",
   "metadata": {},
   "outputs": [],
   "source": []
  }
 ],
 "metadata": {
  "kernelspec": {
   "display_name": "Python 3",
   "language": "python",
   "name": "python3"
  },
  "language_info": {
   "codemirror_mode": {
    "name": "ipython",
    "version": 3
   },
   "file_extension": ".py",
   "mimetype": "text/x-python",
   "name": "python",
   "nbconvert_exporter": "python",
   "pygments_lexer": "ipython3",
   "version": "3.8.8"
  }
 },
 "nbformat": 4,
 "nbformat_minor": 5
}
